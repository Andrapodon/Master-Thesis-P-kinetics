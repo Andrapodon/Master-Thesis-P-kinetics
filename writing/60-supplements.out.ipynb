{
 "cells": [
  {
   "cell_type": "markdown",
   "metadata": {},
   "source": [
    "# \n",
    "\n",
    "# Supplements"
   ],
   "id": "8b964c74-2fe2-4dad-b2b5-600f47f0069c"
  }
 ],
 "nbformat": 4,
 "nbformat_minor": 5,
 "metadata": {}
}
