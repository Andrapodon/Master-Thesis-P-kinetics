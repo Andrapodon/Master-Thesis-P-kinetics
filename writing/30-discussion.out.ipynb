{
 "cells": [
  {
   "cell_type": "markdown",
   "metadata": {},
   "source": [
    "# \n",
    "\n",
    "# Discussion"
   ],
   "id": "0874e4bd-6382-42aa-88a2-309982918adf"
  }
 ],
 "nbformat": 4,
 "nbformat_minor": 5,
 "metadata": {}
}
