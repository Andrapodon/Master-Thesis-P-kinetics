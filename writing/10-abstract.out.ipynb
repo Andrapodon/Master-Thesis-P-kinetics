{
 "cells": [
  {
   "cell_type": "markdown",
   "metadata": {},
   "source": [
    "# \n",
    "\n",
    "# Abstract\n",
    "\n",
    "\\[@knuth84\\]"
   ],
   "id": "bbc758b6-e76f-4b16-b514-fb57bd7d4751"
  }
 ],
 "nbformat": 4,
 "nbformat_minor": 5,
 "metadata": {}
}
