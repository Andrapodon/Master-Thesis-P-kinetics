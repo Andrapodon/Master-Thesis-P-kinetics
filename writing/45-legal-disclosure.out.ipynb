{
 "cells": [
  {
   "cell_type": "markdown",
   "metadata": {},
   "source": [
    "# \n",
    "\n",
    "# Legal Disclosure"
   ],
   "id": "96358ab4-8371-434a-ae93-bb93b98011fd"
  }
 ],
 "nbformat": 4,
 "nbformat_minor": 5,
 "metadata": {}
}
