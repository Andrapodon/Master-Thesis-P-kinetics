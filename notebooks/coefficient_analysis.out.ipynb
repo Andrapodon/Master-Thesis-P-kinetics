{
 "cells": [
  {
   "cell_type": "markdown",
   "metadata": {},
   "source": [
    "# Kinetic Model Coefficient Analysis\n",
    "\n",
    "Marc Pérez  \n",
    "May 22, 2025"
   ],
   "id": "7225eaff-a960-498f-bc1a-8d672b461a5f"
  },
  {
   "cell_type": "code",
   "execution_count": null,
   "metadata": {},
   "outputs": [],
   "source": [
    "\n",
    "suppressPackageStartupMessages({\n",
    "  library(multcomp)\n",
    "  library(car)\n",
    "  library(tidyr)\n",
    "  library(lme4)\n",
    "  library(ggplot2)\n",
    "  library(ggtext)\n",
    "  library(ggpmisc)\n",
    "  library(nlme)\n",
    "  library(latex2exp)\n",
    "  library(kableExtra)\n",
    "  library(broom)\n",
    "  library(dplyr)\n",
    "  library(MuMIn)\n",
    "})\n",
    "\n",
    "options(warn = -1)\n",
    "RES <- readRDS(\"~/Documents/Master Thesis/Master-Thesis-P-kinetics/data/RES.rds\")\n",
    "D <- RES$D\n",
    "d <- RES$data\n"
   ],
   "id": "9a43895f-c295-4521-976c-100873c30b5c"
  },
  {
   "cell_type": "markdown",
   "metadata": {},
   "source": [
    "Model Agroscope $$Y_{rel}\\sim A*(1-e^{rate*P_{CO_2}+Env})$$\n",
    "\n",
    "Wir ersetzen nur rate mit unserer Schätzung k: $$Y_{rel}\\sim A*(1-e^{k*P_{CO_2}+Env})$$\n",
    "\n",
    "Sind unsere Modelparameter gute Prediktoren?? $$Y_{rel}\\sim A*(1-e^{k*PS+Env} )$$\n",
    "\n",
    "Es gibt noch die Kovariaten Niederschlag pro Jahr, Jahresdurchschnittstemperatur und Temperatur in Jugendphase"
   ],
   "id": "5d7fe3a3-d047-4d6f-95fb-33464c748a16"
  },
  {
   "cell_type": "code",
   "execution_count": null,
   "metadata": {},
   "outputs": [],
   "source": [
    "\n",
    "library(GGally)\n",
    "\n",
    "ggpairs(D, \n",
    "  aes(col=Site, shape = Treatment,alpha = 0.6), \n",
    "  columns = c(\"soil_0_20_P_AAE10\", \"soil_0_20_P_CO2\", \"PS\", \"k\", \"kPS\"),\n",
    "  lower = list(continuous = wrap(\"points\", size = 1.3)),\n",
    "  upper = list(continuous = \"blank\", combo = \"blank\", discrete = \"blank\"))  # Adjust size here\n",
    "  \n",
    "\n",
    "\n",
    "\n",
    "\n",
    "p6 <- ggplot(D,aes(y=soil_0_20_P_AAE10, x=soil_0_20_P_CO2, col=Site, size = Treatment)) +\n",
    "  geom_point(shape = 7) + \n",
    "  scale_x_log10() + scale_y_log10() +\n",
    "  labs(x=TeX(\"$P_{H_2O10}(mg/kg Soil)$\"),\n",
    "         y=TeX(\"$P_{AAEDTA}(mg/kg Soil)$\")); p6\n",
    "  \n",
    "p7 <- ggplot(D,aes(y=PS, x=soil_0_20_P_CO2, col=Site, size = Treatment)) +\n",
    "  geom_point(shape = 7) +\n",
    "  scale_x_log10() + scale_y_log10() +\n",
    "  labs(x=TeX(\"$P_{CO_2}(mg/kg Soil)$\"),\n",
    "          y=TeX(\"$PS(mg/kg Soil)$\")); p7\n",
    "\n",
    "p8 <- ggplot(D,aes(y=k, x=soil_0_20_P_CO2, col=Site, size = Treatment)) +\n",
    "  geom_point(shape = 7) +\n",
    "  scale_x_log10() +\n",
    "  labs(x=TeX(\"$P_{CO_2}(mg/kg Soil)$\"),\n",
    "         y=TeX(\"$k(1/s)$\")); p8\n",
    "\n",
    "p9 <- ggplot(D,aes(y=k*PS, x=soil_0_20_P_CO2, col=Site, size = Treatment)) +\n",
    "  geom_point(shape = 7) +\n",
    "  scale_x_log10() + scale_y_log10() +\n",
    "  labs(x=TeX(\"$P_{CO_2}(mg/kg Soil)$\"),\n",
    "         y=TeX(\"$v=k*PS(mg/s*kg Soil)$\"));p9\n",
    "\n",
    "\n",
    "p11 <- ggplot(D,aes(y=PS, x=soil_0_20_P_AAE10, col=Site, size = Treatment)) +\n",
    "  scale_x_log10() + scale_y_log10() +\n",
    "  geom_point(shape = 7) +\n",
    "  labs(x=TeX(\"$P_{AAEDTA}(mg/kg Soil)$\"),\n",
    "         y=TeX(\"$PS(mg/kg Soil)$\")); p11\n",
    "\n",
    "p12 <- ggplot(D,aes(y=k, x=soil_0_20_P_AAE10, col=Site, size = Treatment)) +\n",
    "  geom_point(shape = 7) +\n",
    "   scale_x_log10() + scale_y_log10() +\n",
    "  labs(x=TeX(\"$P_{AAEDTA}(mg/kg Soil)$\"),\n",
    "         y=TeX(\"$k(1/s)$\"))\n",
    "\n",
    "p12\n",
    "\n",
    "p13 <- ggplot(D,aes(y=k*PS, x=soil_0_20_P_AAE10, col=Site, size = Treatment)) +\n",
    "  scale_x_log10() + scale_y_log10() +\n",
    "  geom_point(shape = 7) +\n",
    "  labs(x=TeX(\"$P_{AAEDTA}(mg/kg Soil)$\"),\n",
    "         y=TeX(\"$log(v)=log(k*PS)(mg/s*kg Soil)$\"))\n",
    "\n",
    "p13\n"
   ],
   "id": "ea753daa-8956-403a-96de-9137cdd5fceb"
  },
  {
   "cell_type": "markdown",
   "metadata": {},
   "source": [
    "Nun noch die Linearen Regressionen, die ausstehend sind:\n",
    "\n",
    "`(1|year) + (1|Site)  + (1|Site:block) + (Treatment|Site)`\n",
    "\n",
    "Random intercept per year and site, block nested in site. and Treatment nested in site (could also be modelled as a random slope to allow for correlations)\n",
    "\n",
    "wir sind abe nicht an einem Treatment effekt interesseiert. drum verwerfen wir Treatment als Random UND Fixed effekt.\n",
    "\n",
    "1.  Vergleiche PS, k und kPS mit"
   ],
   "id": "24124461-f458-47a5-8437-f6bbf596ac1a"
  },
  {
   "cell_type": "code",
   "execution_count": null,
   "metadata": {},
   "outputs": [
    {
     "output_type": "stream",
     "name": "stderr",
     "text": [
      "\n",
      "Attaching package: 'lmerTest'"
     ]
    },
    {
     "output_type": "stream",
     "name": "stderr",
     "text": [
      "The following object is masked from 'package:lme4':\n",
      "\n",
      "    lmer"
     ]
    },
    {
     "output_type": "stream",
     "name": "stderr",
     "text": [
      "The following object is masked from 'package:stats':\n",
      "\n",
      "    step"
     ]
    },
    {
     "output_type": "stream",
     "name": "stderr",
     "text": [
      "boundary (singular) fit: see help('isSingular')"
     ]
    },
    {
     "output_type": "stream",
     "name": "stderr",
     "text": [
      "boundary (singular) fit: see help('isSingular')"
     ]
    },
    {
     "output_type": "stream",
     "name": "stderr",
     "text": [
      "boundary (singular) fit: see help('isSingular')"
     ]
    },
    {
     "output_type": "stream",
     "name": "stderr",
     "text": [
      "boundary (singular) fit: see help('isSingular')"
     ]
    },
    {
     "output_type": "stream",
     "name": "stderr",
     "text": [
      "boundary (singular) fit: see help('isSingular')"
     ]
    },
    {
     "output_type": "stream",
     "name": "stderr",
     "text": [
      "boundary (singular) fit: see help('isSingular')"
     ]
    },
    {
     "output_type": "stream",
     "name": "stdout",
     "text": [
      "            R2m       R2c\n",
      "[1,] 0.02402412 0.9173943"
     ]
    },
    {
     "output_type": "stream",
     "name": "stdout",
     "text": [
      "           R2m       R2c\n",
      "[1,] 0.2379547 0.8674634"
     ]
    },
    {
     "output_type": "stream",
     "name": "stderr",
     "text": [
      "boundary (singular) fit: see help('isSingular')"
     ]
    },
    {
     "output_type": "stream",
     "name": "stderr",
     "text": [
      "boundary (singular) fit: see help('isSingular')"
     ]
    },
    {
     "output_type": "stream",
     "name": "stdout",
     "text": [
      "           R2m       R2c\n",
      "[1,] 0.2053782 0.3438158"
     ]
    },
    {
     "output_type": "stream",
     "name": "stderr",
     "text": [
      "boundary (singular) fit: see help('isSingular')"
     ]
    },
    {
     "output_type": "stream",
     "name": "stdout",
     "text": [
      "          R2m      R2c\n",
      "[1,] 0.235125 0.386079"
     ]
    },
    {
     "output_type": "stream",
     "name": "stdout",
     "text": [
      "           R2m       R2c\n",
      "[1,] 0.2211135 0.3097055"
     ]
    },
    {
     "output_type": "stream",
     "name": "stderr",
     "text": [
      "boundary (singular) fit: see help('isSingular')"
     ]
    },
    {
     "output_type": "stream",
     "name": "stdout",
     "text": [
      "           R2m       R2c\n",
      "[1,] 0.2523622 0.3433311"
     ]
    },
    {
     "output_type": "stream",
     "name": "stdout",
     "text": [
      "            R2m       R2c\n",
      "[1,] 0.08179225 0.4333343"
     ]
    },
    {
     "output_type": "stream",
     "name": "stdout",
     "text": [
      "Linear mixed model fit by REML. t-tests use Kenward-Roger's method [\n",
      "lmerModLmerTest]\n",
      "Formula: Ymain_norm ~ k * log(PS) + (1 | year) + (1 | Site) + (1 | Site:block)\n",
      "   Data: D\n",
      " Subset: Treatment == \"P0\"\n",
      "\n",
      "REML criterion at convergence: -97.2\n",
      "\n",
      "Scaled residuals: \n",
      "     Min       1Q   Median       3Q      Max \n",
      "-2.78836 -0.53761 -0.04547  0.50347  2.85490 \n",
      "\n",
      "Random effects:\n",
      " Groups     Name        Variance Std.Dev.\n",
      " Site:block (Intercept) 0.001626 0.04033 \n",
      " year       (Intercept) 0.003921 0.06262 \n",
      " Site       (Intercept) 0.005720 0.07563 \n",
      " Residual               0.018163 0.13477 \n",
      "Number of obs: 104, groups:  Site:block, 16; year, 6; Site, 4\n",
      "\n",
      "Fixed effects:\n",
      "            Estimate Std. Error      df t value Pr(>|t|)\n",
      "(Intercept)   0.1623     0.7007  9.8198   0.232    0.822\n",
      "k             4.6186     3.6945  9.8503   1.250    0.240\n",
      "log(PS)      -0.2364     0.2027  9.7951  -1.166    0.271\n",
      "k:log(PS)     1.5675     1.0796 10.0055   1.452    0.177\n",
      "\n",
      "Correlation of Fixed Effects:\n",
      "          (Intr) k      lg(PS)\n",
      "k         -0.959              \n",
      "log(PS)    0.989 -0.955       \n",
      "k:log(PS) -0.946  0.992 -0.958"
     ]
    },
    {
     "output_type": "stream",
     "name": "stderr",
     "text": [
      "boundary (singular) fit: see help('isSingular')"
     ]
    },
    {
     "output_type": "stream",
     "name": "stdout",
     "text": [
      "            R2m        R2c\n",
      "[1,] 0.03459314 0.07997467"
     ]
    },
    {
     "output_type": "stream",
     "name": "stderr",
     "text": [
      "boundary (singular) fit: see help('isSingular')"
     ]
    },
    {
     "output_type": "stream",
     "name": "stdout",
     "text": [
      "            R2m        R2c\n",
      "[1,] 0.05218996 0.09439205"
     ]
    },
    {
     "output_type": "stream",
     "name": "stdout",
     "text": [
      "          R2m      R2c\n",
      "[1,] 0.218175 0.358219"
     ]
    },
    {
     "output_type": "stream",
     "name": "stdout",
     "text": [
      "           R2m       R2c\n",
      "[1,] 0.1976951 0.4740521"
     ]
    },
    {
     "output_type": "stream",
     "name": "stdout",
     "text": [
      "           R2m       R2c\n",
      "[1,] 0.2204812 0.3650344"
     ]
    },
    {
     "output_type": "stream",
     "name": "stderr",
     "text": [
      "boundary (singular) fit: see help('isSingular')"
     ]
    },
    {
     "output_type": "stream",
     "name": "stdout",
     "text": [
      "          R2m      R2c\n",
      "[1,] 0.235125 0.386079"
     ]
    },
    {
     "output_type": "stream",
     "name": "stderr",
     "text": [
      "boundary (singular) fit: see help('isSingular')"
     ]
    },
    {
     "output_type": "stream",
     "name": "stderr",
     "text": [
      "boundary (singular) fit: see help('isSingular')"
     ]
    },
    {
     "output_type": "stream",
     "name": "stderr",
     "text": [
      "there are higher-order terms (interactions) in this model\n",
      "consider setting type = 'predictor'; see ?vif"
     ]
    },
    {
     "output_type": "stream",
     "name": "stdout",
     "text": [
      "               GVIF Df GVIF^(1/(2*Df))\n",
      "k         10.946397  1        3.308534\n",
      "log(PS)   15.324810  1        3.914692\n",
      "crop       1.001335  4        1.000167\n",
      "k:log(PS) 31.327404  1        5.597089"
     ]
    },
    {
     "output_type": "stream",
     "name": "stderr",
     "text": [
      "there are higher-order terms (interactions) in this model\n",
      "consider setting type = 'predictor'; see ?vif"
     ]
    },
    {
     "output_type": "stream",
     "name": "stdout",
     "text": [
      "                            GVIF Df GVIF^(1/(2*Df))\n",
      "scale(k)                1.098955  1        1.048311\n",
      "scale(log(PS))          1.112618  1        1.054807\n",
      "crop                    1.001335  4        1.000167\n",
      "scale(k):scale(log(PS)) 1.080146  1        1.039301"
     ]
    },
    {
     "output_type": "stream",
     "name": "stdout",
     "text": [
      "            GVIF Df GVIF^(1/(2*Df))\n",
      "k       1.074464  1        1.036563\n",
      "log(PS) 1.073606  1        1.036150\n",
      "crop    1.001116  4        1.000139"
     ]
    },
    {
     "output_type": "stream",
     "name": "stdout",
     "text": [
      "                GVIF Df GVIF^(1/(2*Df))\n",
      "I(k * (PS)) 4.518544  1        2.125687\n",
      "k           1.645019  1        1.282583\n",
      "log(PS)     4.783178  1        2.187048\n",
      "crop        1.001142  4        1.000143"
     ]
    },
    {
     "output_type": "display_data",
     "metadata": {},
     "data": {
      "image/png": "[encoded data removed]"
     }
    },
    {
     "output_type": "display_data",
     "metadata": {},
     "data": {
      "image/png": "[encoded data removed]"
     }
    },
    {
     "output_type": "stream",
     "name": "stdout",
     "text": [
      "          R2m      R2c\n",
      "[1,] 0.235125 0.386079"
     ]
    },
    {
     "output_type": "stream",
     "name": "stdout",
     "text": [
      "Type III Analysis of Variance Table with Satterthwaite's method\n",
      "                  Sum Sq Mean Sq NumDF  DenDF F value   Pr(>F)   \n",
      "soil_0_20_clay   0.05971 0.05971     1 60.276  1.7198 0.194695   \n",
      "soil_0_20_pH_H2O 0.00345 0.00345     1 70.953  0.0994 0.753472   \n",
      "soil_0_20_Corg   0.36612 0.36612     1 50.241 10.5444 0.002079 **\n",
      "soil_0_20_silt   0.01827 0.01827     1 82.723  0.5263 0.470228   \n",
      "---\n",
      "Signif. codes:  0 '***' 0.001 '**' 0.01 '*' 0.05 '.' 0.1 ' ' 1"
     ]
    },
    {
     "output_type": "stream",
     "name": "stdout",
     "text": [
      "Type III Analysis of Variance Table with Satterthwaite's method\n",
      "                    Sum Sq   Mean Sq NumDF  DenDF F value   Pr(>F)   \n",
      "soil_0_20_clay   0.0037589 0.0037589     1 66.215  2.9776 0.089090 . \n",
      "soil_0_20_pH_H2O 0.0103321 0.0103321     1 64.590  8.1844 0.005686 **\n",
      "soil_0_20_Corg   0.0000556 0.0000556     1 66.276  0.0441 0.834382   \n",
      "soil_0_20_silt   0.0082941 0.0082941     1 51.342  6.5701 0.013342 * \n",
      "---\n",
      "Signif. codes:  0 '***' 0.001 '**' 0.01 '*' 0.05 '.' 0.1 ' ' 1"
     ]
    },
    {
     "output_type": "stream",
     "name": "stdout",
     "text": [
      "\n",
      "     Simultaneous Tests for General Linear Hypotheses\n",
      "\n",
      "Fit: lmer(formula = k ~ soil_0_20_clay + soil_0_20_pH_H2O + soil_0_20_Corg + \n",
      "    soil_0_20_silt + (1 | year) + (1 | Site) + (1 | Site:block) + \n",
      "    (1 | Site:Treatment), data = D)\n",
      "\n",
      "Linear Hypotheses:\n",
      "                       Estimate Std. Error z value Pr(>|z|)  \n",
      "(Intercept) == 0      -0.130397   0.140751  -0.926   0.8033  \n",
      "soil_0_20_clay == 0   -0.003849   0.002231  -1.726   0.2916  \n",
      "soil_0_20_pH_H2O == 0  0.032934   0.011512   2.861   0.0184 *\n",
      "soil_0_20_Corg == 0   -0.006614   0.031508  -0.210   0.9990  \n",
      "soil_0_20_silt == 0    0.006743   0.002631   2.563   0.0436 *\n",
      "---\n",
      "Signif. codes:  0 '***' 0.001 '**' 0.01 '*' 0.05 '.' 0.1 ' ' 1\n",
      "(Adjusted p values reported -- single-step method)"
     ]
    },
    {
     "output_type": "stream",
     "name": "stdout",
     "text": [
      "Type III Analysis of Variance Table with Satterthwaite's method\n",
      "                   Sum Sq  Mean Sq NumDF  DenDF F value  Pr(>F)  \n",
      "soil_0_20_clay   0.005861 0.005861     1 82.839  0.0917 0.76273  \n",
      "soil_0_20_pH_H2O 0.253558 0.253558     1 82.702  3.9692 0.04964 *\n",
      "soil_0_20_Corg   0.017639 0.017639     1 70.803  0.2761 0.60090  \n",
      "soil_0_20_silt   0.035303 0.035303     1 88.410  0.5526 0.45921  \n",
      "---\n",
      "Signif. codes:  0 '***' 0.001 '**' 0.01 '*' 0.05 '.' 0.1 ' ' 1"
     ]
    },
    {
     "output_type": "stream",
     "name": "stdout",
     "text": [
      "\n",
      "     Simultaneous Tests for General Linear Hypotheses\n",
      "\n",
      "Fit: lmer(formula = I(log(k * PS)) ~ soil_0_20_clay + soil_0_20_pH_H2O + \n",
      "    soil_0_20_Corg + soil_0_20_silt + (1 | year) + (1 | Site) + \n",
      "    (1 | Site:block) + (1 | Site:Treatment), data = D)\n",
      "\n",
      "Linear Hypotheses:\n",
      "                      Estimate Std. Error z value Pr(>|z|)    \n",
      "(Intercept) == 0      -6.10829    1.31189  -4.656   <0.001 ***\n",
      "soil_0_20_clay == 0   -0.00606    0.02001  -0.303    0.997    \n",
      "soil_0_20_pH_H2O == 0  0.19127    0.09601   1.992    0.185    \n",
      "soil_0_20_Corg == 0    0.12779    0.24319   0.525    0.974    \n",
      "soil_0_20_silt == 0    0.01849    0.02487   0.743    0.911    \n",
      "---\n",
      "Signif. codes:  0 '***' 0.001 '**' 0.01 '*' 0.05 '.' 0.1 ' ' 1\n",
      "(Adjusted p values reported -- single-step method)"
     ]
    },
    {
     "output_type": "stream",
     "name": "stdout",
     "text": [
      "Type III Analysis of Variance Table with Satterthwaite's method\n",
      "           Sum Sq Mean Sq NumDF  DenDF F value  Pr(>F)  \n",
      "k          950.33  950.33     1 201.84  4.6170 0.03285 *\n",
      "log(PS)    189.78  189.78     1 202.30  0.9220 0.33809  \n",
      "k:log(PS) 1303.51 1303.51     1 202.45  6.3329 0.01263 *\n",
      "---\n",
      "Signif. codes:  0 '***' 0.001 '**' 0.01 '*' 0.05 '.' 0.1 ' ' 1"
     ]
    },
    {
     "output_type": "stream",
     "name": "stdout",
     "text": [
      "Type III Analysis of Variance Table with Satterthwaite's method\n",
      "            Sum Sq  Mean Sq NumDF  DenDF F value   Pr(>F)   \n",
      "k         0.109336 0.109336     1 195.89  6.4740 0.011717 * \n",
      "log(PS)   0.009683 0.009683     1 196.12  0.5734 0.449832   \n",
      "k:log(PS) 0.163652 0.163652     1 195.38  9.6901 0.002131 **\n",
      "---\n",
      "Signif. codes:  0 '***' 0.001 '**' 0.01 '*' 0.05 '.' 0.1 ' ' 1"
     ]
    },
    {
     "output_type": "stream",
     "name": "stdout",
     "text": [
      "Type III Analysis of Variance Table with Satterthwaite's method\n",
      "          Sum Sq Mean Sq NumDF  DenDF F value Pr(>F)\n",
      "k         35.305  35.305     1 247.74  0.5252 0.4693\n",
      "log(PS)   39.586  39.586     1 248.15  0.5889 0.4436\n",
      "k:log(PS) 53.624  53.624     1 248.29  0.7978 0.3726"
     ]
    },
    {
     "output_type": "stream",
     "name": "stdout",
     "text": [
      "Type III Analysis of Variance Table with Satterthwaite's method\n",
      "                   Sum Sq  Mean Sq NumDF  DenDF F value  Pr(>F)  \n",
      "soil_0_20_clay   0.001204 0.001204     1 55.784  0.0365 0.84927  \n",
      "soil_0_20_pH_H2O 0.166954 0.166954     1 68.215  5.0574 0.02775 *\n",
      "soil_0_20_Corg   0.195107 0.195107     1 44.241  5.9103 0.01917 *\n",
      "soil_0_20_silt   0.031962 0.031962     1 81.136  0.9682 0.32805  \n",
      "---\n",
      "Signif. codes:  0 '***' 0.001 '**' 0.01 '*' 0.05 '.' 0.1 ' ' 1"
     ]
    },
    {
     "output_type": "stream",
     "name": "stdout",
     "text": [
      "Type III Analysis of Variance Table with Satterthwaite's method\n",
      "                  Sum Sq Mean Sq NumDF  DenDF F value    Pr(>F)    \n",
      "soil_0_20_clay   0.02462 0.02462     1 70.278  0.6521  0.422079    \n",
      "soil_0_20_pH_H2O 0.79836 0.79836     1 75.915 21.1499 1.666e-05 ***\n",
      "soil_0_20_Corg   0.31812 0.31812     1 56.367  8.4276  0.005266 ** \n",
      "soil_0_20_silt   0.00145 0.00145     1 87.492  0.0383  0.845249    \n",
      "---\n",
      "Signif. codes:  0 '***' 0.001 '**' 0.01 '*' 0.05 '.' 0.1 ' ' 1"
     ]
    },
    {
     "output_type": "stream",
     "name": "stdout",
     "text": [
      "Type III Analysis of Variance Table with Satterthwaite's method\n",
      "           Sum Sq Mean Sq NumDF  DenDF F value    Pr(>F)    \n",
      "k          411.53  411.53     1 228.31  2.6679    0.1038    \n",
      "log(PS)   2451.66 2451.66     1 236.98 15.8941 8.925e-05 ***\n",
      "k:log(PS)  335.80  335.80     1 232.66  2.1770    0.1414    \n",
      "---\n",
      "Signif. codes:  0 '***' 0.001 '**' 0.01 '*' 0.05 '.' 0.1 ' ' 1"
     ]
    },
    {
     "output_type": "stream",
     "name": "stdout",
     "text": [
      "Linear mixed model fit by REML. t-tests use Satterthwaite's method [\n",
      "lmerModLmerTest]\n",
      "Formula: annual_P_balance ~ k * log(PS) + (1 | year) + (1 | Site) + (1 |  \n",
      "    Site:block)\n",
      "   Data: D\n",
      "\n",
      "REML criterion at convergence: 2172.1\n",
      "\n",
      "Scaled residuals: \n",
      "    Min      1Q  Median      3Q     Max \n",
      "-4.2416 -0.5978  0.0314  0.5493  2.8712 \n",
      "\n",
      "Random effects:\n",
      " Groups     Name        Variance Std.Dev.\n",
      " Site:block (Intercept)  20.32    4.508  \n",
      " year       (Intercept)  59.33    7.703  \n",
      " Site       (Intercept)  23.96    4.895  \n",
      " Residual               154.25   12.420  \n",
      "Number of obs: 274, groups:  Site:block, 16; year, 6; Site, 4\n",
      "\n",
      "Fixed effects:\n",
      "            Estimate Std. Error      df t value Pr(>|t|)    \n",
      "(Intercept)   43.833     10.402 146.527   4.214 4.37e-05 ***\n",
      "k             84.993     52.035 228.313   1.633    0.104    \n",
      "log(PS)       16.947      4.251 236.979   3.987 8.92e-05 ***\n",
      "k:log(PS)     33.029     22.386 232.660   1.475    0.141    \n",
      "---\n",
      "Signif. codes:  0 '***' 0.001 '**' 0.01 '*' 0.05 '.' 0.1 ' ' 1\n",
      "\n",
      "Correlation of Fixed Effects:\n",
      "          (Intr) k      lg(PS)\n",
      "k         -0.887              \n",
      "log(PS)    0.858 -0.901       \n",
      "k:log(PS) -0.843  0.944 -0.971"
     ]
    },
    {
     "output_type": "stream",
     "name": "stdout",
     "text": [
      "           R2m       R2c\n",
      "[1,] 0.5718128 0.7438723"
     ]
    },
    {
     "output_type": "stream",
     "name": "stdout",
     "text": [
      "            R2m       R2c\n",
      "[1,] 0.06433359 0.6476313"
     ]
    },
    {
     "output_type": "stream",
     "name": "stdout",
     "text": [
      "            R2m       R2c\n",
      "[1,] 0.09057145 0.5941011"
     ]
    },
    {
     "output_type": "stream",
     "name": "stdout",
     "text": [
      "          R2m      R2c\n",
      "[1,] 0.235125 0.386079"
     ]
    }
   ],
   "source": [
    "\n",
    "\n",
    "# Wovon hängen Modelparameter ab?\n",
    "\n",
    "library(lmerTest)\n"
   ],
   "id": "ca67e2f9-74ba-4cf0-864a-c8a8275f15a8"
  },
  {
   "cell_type": "markdown",
   "metadata": {},
   "source": [
    "Since we now model two measurement methods, we do not expect correlations by Site/year/etc"
   ],
   "id": "da99c621-c3f3-47a4-b918-a00d35a9fb6d"
  },
  {
   "cell_type": "code",
   "execution_count": null,
   "metadata": {},
   "outputs": [
    {
     "output_type": "stream",
     "name": "stderr",
     "text": [
      "boundary (singular) fit: see help('isSingular')"
     ]
    },
    {
     "output_type": "stream",
     "name": "stderr",
     "text": [
      "boundary (singular) fit: see help('isSingular')"
     ]
    },
    {
     "output_type": "stream",
     "name": "stderr",
     "text": [
      "boundary (singular) fit: see help('isSingular')"
     ]
    },
    {
     "output_type": "stream",
     "name": "stderr",
     "text": [
      "boundary (singular) fit: see help('isSingular')"
     ]
    },
    {
     "output_type": "stream",
     "name": "stderr",
     "text": [
      "boundary (singular) fit: see help('isSingular')"
     ]
    },
    {
     "output_type": "stream",
     "name": "stderr",
     "text": [
      "boundary (singular) fit: see help('isSingular')"
     ]
    },
    {
     "output_type": "stream",
     "name": "stderr",
     "text": [
      "boundary (singular) fit: see help('isSingular')"
     ]
    },
    {
     "output_type": "stream",
     "name": "stdout",
     "text": [
      "\n",
      "     Simultaneous Tests for General Linear Hypotheses\n",
      "\n",
      "Fit: lm(formula = log(PS) ~ log(soil_0_20_P_CO2) + log(soil_0_20_P_AAE10), \n",
      "    data = D)\n",
      "\n",
      "Linear Hypotheses:\n",
      "                            Estimate Std. Error t value Pr(>|t|)    \n",
      "(Intercept) == 0            -0.61404    0.20562  -2.986  0.00537 ** \n",
      "log(soil_0_20_P_CO2) == 0    1.30106    0.05963  21.819  < 0.001 ***\n",
      "log(soil_0_20_P_AAE10) == 0 -0.24892    0.05163  -4.821  < 0.001 ***\n",
      "---\n",
      "Signif. codes:  0 '***' 0.001 '**' 0.01 '*' 0.05 '.' 0.1 ' ' 1\n",
      "(Adjusted p values reported -- single-step method)"
     ]
    },
    {
     "output_type": "stream",
     "name": "stdout",
     "text": [
      "\n",
      "     Simultaneous Tests for General Linear Hypotheses\n",
      "\n",
      "Fit: lm(formula = k ~ log(soil_0_20_P_CO2) + log(soil_0_20_P_AAE10), \n",
      "    data = D)\n",
      "\n",
      "Linear Hypotheses:\n",
      "                             Estimate Std. Error t value Pr(>|t|)    \n",
      "(Intercept) == 0             0.074843   0.026807   2.792   0.0102 *  \n",
      "log(soil_0_20_P_CO2) == 0   -0.031362   0.007774  -4.034   <0.001 ***\n",
      "log(soil_0_20_P_AAE10) == 0  0.029663   0.006731   4.407   <0.001 ***\n",
      "---\n",
      "Signif. codes:  0 '***' 0.001 '**' 0.01 '*' 0.05 '.' 0.1 ' ' 1\n",
      "(Adjusted p values reported -- single-step method)"
     ]
    },
    {
     "output_type": "stream",
     "name": "stdout",
     "text": [
      "\n",
      "     Simultaneous Tests for General Linear Hypotheses\n",
      "\n",
      "Fit: lm(formula = I(log(k * PS)) ~ log(soil_0_20_P_CO2) + log(soil_0_20_P_AAE10), \n",
      "    data = D)\n",
      "\n",
      "Linear Hypotheses:\n",
      "                            Estimate Std. Error t value Pr(>|t|)    \n",
      "(Intercept) == 0            -2.89619    0.20538 -14.102   <0.001 ***\n",
      "log(soil_0_20_P_CO2) == 0    1.12637    0.05956  18.912   <0.001 ***\n",
      "log(soil_0_20_P_AAE10) == 0 -0.10426    0.05157  -2.022   0.0713 .  \n",
      "---\n",
      "Signif. codes:  0 '***' 0.001 '**' 0.01 '*' 0.05 '.' 0.1 ' ' 1\n",
      "(Adjusted p values reported -- single-step method)"
     ]
    },
    {
     "output_type": "stream",
     "name": "stdout",
     "text": [
      "Linear mixed model fit by REML. t-tests use Satterthwaite's method [\n",
      "lmerModLmerTest]\n",
      "Formula: Ymain_rel ~ log(soil_0_20_P_CO2) + log(soil_0_20_P_AAE10) + (1 |  \n",
      "    year) + (1 | Site) + (1 | Site:block) + (1 | Site:Treatment)\n",
      "   Data: D\n",
      "\n",
      "REML criterion at convergence: 1740.2\n",
      "\n",
      "Scaled residuals: \n",
      "     Min       1Q   Median       3Q      Max \n",
      "-3.00124 -0.58425 -0.01625  0.57153  2.82374 \n",
      "\n",
      "Random effects:\n",
      " Groups         Name        Variance Std.Dev.\n",
      " Site:block     (Intercept)   2.612   1.616  \n",
      " Site:Treatment (Intercept)  15.818   3.977  \n",
      " year           (Intercept) 161.127  12.694  \n",
      " Site           (Intercept)  54.936   7.412  \n",
      " Residual                   196.854  14.030  \n",
      "Number of obs: 212, groups:  \n",
      "Site:block, 16; Site:Treatment, 12; year, 5; Site, 4\n",
      "\n",
      "Fixed effects:\n",
      "                       Estimate Std. Error       df t value Pr(>|t|)    \n",
      "(Intercept)            108.4942    17.6735  40.7465   6.139 2.81e-07 ***\n",
      "log(soil_0_20_P_CO2)     9.6918     4.2287  30.9801   2.292   0.0289 *  \n",
      "log(soil_0_20_P_AAE10)  -0.9326     4.1643  46.0411  -0.224   0.8238    \n",
      "---\n",
      "Signif. codes:  0 '***' 0.001 '**' 0.01 '*' 0.05 '.' 0.1 ' ' 1\n",
      "\n",
      "Correlation of Fixed Effects:\n",
      "            (Intr) l(_0_20_P_C\n",
      "l(_0_20_P_C  0.830            \n",
      "l(_0_20_P_A -0.915 -0.858     "
     ]
    },
    {
     "output_type": "stream",
     "name": "stdout",
     "text": [
      "Linear mixed model fit by REML. t-tests use Satterthwaite's method [\n",
      "lmerModLmerTest]\n",
      "Formula: annual_P_uptake ~ log(soil_0_20_P_CO2) + log(soil_0_20_P_AAE10) +  \n",
      "    (1 | year) + (1 | Site) + (1 | Site:block) + (1 | Site:Treatment)\n",
      "   Data: D\n",
      "\n",
      "REML criterion at convergence: 1844.3\n",
      "\n",
      "Scaled residuals: \n",
      "    Min      1Q  Median      3Q     Max \n",
      "-3.1941 -0.4246 -0.0380  0.3941  4.7946 \n",
      "\n",
      "Random effects:\n",
      " Groups         Name        Variance  Std.Dev.\n",
      " Site:block     (Intercept) 0.000e+00 0.000000\n",
      " Site:Treatment (Intercept) 1.036e-06 0.001018\n",
      " year           (Intercept) 7.372e+01 8.586275\n",
      " Site           (Intercept) 2.427e+01 4.926572\n",
      " Residual                   6.686e+01 8.177020\n",
      "Number of obs: 259, groups:  \n",
      "Site:block, 16; Site:Treatment, 12; year, 6; Site, 4\n",
      "\n",
      "Fixed effects:\n",
      "                       Estimate Std. Error       df t value Pr(>|t|)   \n",
      "(Intercept)             24.7259     8.5160  64.7088   2.903  0.00504 **\n",
      "log(soil_0_20_P_CO2)     4.5632     1.7896 205.5646   2.550  0.01151 * \n",
      "log(soil_0_20_P_AAE10)   0.7243     1.8948 175.6048   0.382  0.70275   \n",
      "---\n",
      "Signif. codes:  0 '***' 0.001 '**' 0.01 '*' 0.05 '.' 0.1 ' ' 1\n",
      "\n",
      "Correlation of Fixed Effects:\n",
      "            (Intr) l(_0_20_P_C\n",
      "l(_0_20_P_C  0.802            \n",
      "l(_0_20_P_A -0.859 -0.899     \n",
      "optimizer (nloptwrap) convergence code: 0 (OK)\n",
      "boundary (singular) fit: see help('isSingular')"
     ]
    },
    {
     "output_type": "stream",
     "name": "stdout",
     "text": [
      "Linear mixed model fit by REML. t-tests use Satterthwaite's method [\n",
      "lmerModLmerTest]\n",
      "Formula: annual_P_balance ~ log(soil_0_20_P_CO2) + log(soil_0_20_P_AAE10) +  \n",
      "    (1 | year) + (1 | Site) + (1 | Site:block) + (1 | Site:Treatment)\n",
      "   Data: D\n",
      "\n",
      "REML criterion at convergence: 2129.3\n",
      "\n",
      "Scaled residuals: \n",
      "    Min      1Q  Median      3Q     Max \n",
      "-4.3544 -0.5456  0.0619  0.5653  2.8045 \n",
      "\n",
      "Random effects:\n",
      " Groups         Name        Variance  Std.Dev. \n",
      " Site:block     (Intercept) 0.000e+00  0.000000\n",
      " Site:Treatment (Intercept) 4.284e+02 20.698518\n",
      " year           (Intercept) 5.796e+01  7.613248\n",
      " Site           (Intercept) 1.382e-06  0.001176\n",
      " Residual                   1.145e+02 10.701982\n",
      "Number of obs: 274, groups:  \n",
      "Site:block, 16; Site:Treatment, 12; year, 6; Site, 4\n",
      "\n",
      "Fixed effects:\n",
      "                       Estimate Std. Error       df t value Pr(>|t|)\n",
      "(Intercept)              6.5755    15.3463 150.9194   0.428    0.669\n",
      "log(soil_0_20_P_CO2)    -0.4298     4.2050 260.9580  -0.102    0.919\n",
      "log(soil_0_20_P_AAE10)  -0.5459     3.4874 264.0266  -0.157    0.876\n",
      "\n",
      "Correlation of Fixed Effects:\n",
      "            (Intr) l(_0_20_P_C\n",
      "l(_0_20_P_C  0.754            \n",
      "l(_0_20_P_A -0.888 -0.754     \n",
      "optimizer (nloptwrap) convergence code: 0 (OK)\n",
      "boundary (singular) fit: see help('isSingular')"
     ]
    },
    {
     "output_type": "stream",
     "name": "stdout",
     "text": [
      "              R2m       R2c\n",
      "[1,] 0.0006758751 0.8095345"
     ]
    },
    {
     "output_type": "stream",
     "name": "stdout",
     "text": [
      "            R2m       R2c\n",
      "[1,] 0.06600072 0.6211875"
     ]
    },
    {
     "output_type": "stream",
     "name": "stdout",
     "text": [
      "            R2m       R2c\n",
      "[1,] 0.07256889 0.5767479"
     ]
    }
   ],
   "source": [
    "# fit.PS       <- lm(PS            ~ soil_0_20_P_CO2 + soil_0_20_P_AAE10, D)\n",
    "fit.grud.PS       <- lm(log(PS)         ~ log(soil_0_20_P_CO2) + log(soil_0_20_P_AAE10), D)\n",
    "fit.grud.k        <- lm(k               ~ log(soil_0_20_P_CO2) + log(soil_0_20_P_AAE10), D)\n",
    "fit.grud.kPS      <- lm(I(log(k*PS))    ~ log(soil_0_20_P_CO2) + log(soil_0_20_P_AAE10), D)\n",
    "\n",
    "fit.grud.CO2.Yrel     <- lmer(Ymain_rel       ~ log(soil_0_20_P_CO2) + (1|year) + (1|Site)  + (1|Site:block) + (1|Site:Treatment), D)\n",
    "fit.grud.AAE10.Yrel     <- lmer(Ymain_rel       ~ log(soil_0_20_P_AAE10) + (1|year) + (1|Site)  + (1|Site:block) + (1|Site:Treatment), D)\n"
   ],
   "id": "41346414-f4a4-4f4d-9511-caf4f5403e28"
  },
  {
   "cell_type": "code",
   "execution_count": null,
   "metadata": {},
   "outputs": [],
   "source": [
    "create_coef_table <- function(lmer_models, \n",
    "                              covariate_order = NULL, \n",
    "                              covariate_labels = NULL, # NEU: Benannter Vektor für Zeilennamen\n",
    "                              model_labels = NULL) {   # NEU: Benannter Vektor für Spaltennamen\n",
    "\n",
    "  # Extract coefficients and p-values (Ihre Originalfunktion, keine Änderung hier)\n",
    "  extract_coef_info <- function(model) {\n",
    "    # ... (keine Änderung, Ihr Code bleibt hier)\n",
    "    coef_matrix <- summary(model)|> coef()\n",
    "    estimates <- coef_matrix[, 1]\n",
    "    p_values <- coef_matrix[, ncol(coef_matrix)]\n",
    "    formatted_coef <- sapply(seq_along(estimates), function(i) {\n",
    "      est_str <- sprintf(\"%.3f\", estimates[i])\n",
    "      stars <- if (p_values[i] < 0.001) \"***\" else\n",
    "               if (p_values[i] < 0.01) \"** \" else\n",
    "               if (p_values[i] < 0.05) \"* \" else  \"\"\n",
    "      paste0(stars, est_str)\n",
    "    })\n",
    "    names(formatted_coef) <- rownames(coef_matrix)\n",
    "    return(formatted_coef)\n",
    "  }\n",
    "\n",
    "  # Extract R-squared values (Ihre Originalfunktion, keine Änderung hier)\n",
    "  extract_r_squared <- function(model) {\n",
    "    # ... (keine Änderung, Ihr Code bleibt hier)\n",
    "    r2_values <- MuMIn::r.squaredGLMM(model) # MuMIn:: hinzugefügt für Klarheit\n",
    "    return(c(\n",
    "      R2m = sprintf(\"%.3f\", r2_values[1, \"R2m\"]),\n",
    "      R2c = sprintf(\"%.3f\", r2_values[1, \"R2c\"])\n",
    "    ))\n",
    "  }\n",
    "\n",
    "  # Daten extrahieren (Ihr Originalcode)\n",
    "  all_coefs <- lapply(lmer_models, extract_coef_info)\n",
    "  all_r_squared <- lapply(lmer_models, extract_r_squared)\n",
    "  all_covariate_names <- unique(unlist(lapply(all_coefs, names)))\n",
    "\n",
    "  if (is.null(covariate_order)) {\n",
    "    covariate_order <- c(\"(Intercept)\", sort(all_covariate_names[all_covariate_names != \"(Intercept)\"]))\n",
    "  }\n",
    "  covariate_order <- covariate_order[covariate_order %in% all_covariate_names]\n",
    "  final_order <- c(covariate_order, \"R2m\", \"R2c\")\n",
    "\n",
    "  # Matrix erstellen (Ihr Originalcode)\n",
    "  results_matrix <- matrix(\"\",\n",
    "                           nrow = length(final_order),\n",
    "                           ncol = length(lmer_models),\n",
    "                           dimnames = list(final_order, names(lmer_models)))\n",
    "\n",
    "  # Matrix füllen (Ihr Originalcode)\n",
    "  for (model_name in names(lmer_models)) {\n",
    "    model_coefs <- all_coefs[[model_name]]\n",
    "    for (covar in names(model_coefs)) {\n",
    "      if (covar %in% covariate_order) {\n",
    "        results_matrix[covar, model_name] <- model_coefs[covar]\n",
    "      }\n",
    "    }\n",
    "    r2_values <- all_r_squared[[model_name]]\n",
    "    results_matrix[\"R2m\", model_name] <- r2_values[\"R2m\"]\n",
    "    results_matrix[\"R2c\", model_name] <- r2_values[\"R2c\"]\n",
    "  }\n",
    "\n",
    "  # --- NEU: Zeilen- und Spaltennamen ersetzen ---\n",
    "  \n",
    "  # Ersetze die Zeilennamen (Kovariaten), falls covariate_labels übergeben wurde\n",
    "  if (!is.null(covariate_labels)) {\n",
    "    # Finde die Übereinstimmungen in den aktuellen Zeilennamen\n",
    "    row_matches <- match(rownames(results_matrix), names(covariate_labels))\n",
    "    # Ersetze nur die, die gefunden wurden\n",
    "    new_rownames <- rownames(results_matrix)\n",
    "    new_rownames[!is.na(row_matches)] <- covariate_labels[row_matches[!is.na(row_matches)]]\n",
    "    rownames(results_matrix) <- new_rownames\n",
    "  }\n",
    "  \n",
    "  # Ersetze die Spaltennamen (Modelle), falls model_labels übergeben wurde\n",
    "  if (!is.null(model_labels)) {\n",
    "    col_matches <- match(colnames(results_matrix), names(model_labels))\n",
    "    new_colnames <- colnames(results_matrix)\n",
    "    new_colnames[!is.na(col_matches)] <- model_labels[col_matches[!is.na(col_matches)]]\n",
    "    colnames(results_matrix) <- new_colnames\n",
    "  }\n",
    "  \n",
    "  # --- Ende der neuen Sektion ---\n",
    "\n",
    "  # Convert to data frame for kable\n",
    "  results_df <- data.frame(Covariate = rownames(results_matrix),\n",
    "                           results_matrix,\n",
    "                           check.names = FALSE, # Verhindert, dass R Spaltennamen ändert\n",
    "                           stringsAsFactors = FALSE)\n",
    "  \n",
    "  results_df\n",
    "}\n"
   ],
   "id": "7a55aaf0-6eb6-48cd-9b82-5b49ef74a25e"
  },
  {
   "cell_type": "code",
   "execution_count": null,
   "metadata": {},
   "outputs": [
    {
     "output_type": "display_data",
     "metadata": {},
     "data": {
      "text/markdown": [
       "  ---------------------------------------------------------------------------------------------\n",
       "  Covariate                      PS        k     log(k\\*PS)   k\\*log(PS)      CO2         AAE10\n",
       "  ------------------ -------------- -------- -------------- ------------ -------- -------------\n",
       "  (Intercept)          \\*\\*\\*-3.807   -0.130   \\*\\*\\*-6.108       -0.216       \\*        -0.419\n",
       "                                                                           -2.034 \n",
       "\n",
       "  soil_0_20_clay              0.018   -0.004         -0.006     \\* 0.014    0.002         0.012\n",
       "\n",
       "  soil_0_20_Corg         \\*\\* 0.507   -0.007          0.128        0.077 \\* 0.364    \\*\\* 0.502\n",
       "\n",
       "  soil_0_20_pH_H2O            0.021     \\*\\*       \\* 0.191       -0.066 \\* 0.141   \\*\\*\\*0.323\n",
       "                                       0.033                                      \n",
       "\n",
       "  soil_0_20_silt             -0.013 \\* 0.007          0.018       -0.013   -0.017        -0.004\n",
       "\n",
       "  R2m                         0.074    0.356          0.024        0.238    0.035         0.091\n",
       "\n",
       "  R2c                         0.955    0.704          0.917        0.867    0.931         0.931\n",
       "  ---------------------------------------------------------------------------------------------\n",
       "\n",
       "  : Coefficient Table for Soil covariates. Significant codes: 0 '\\*\\*\\*'\n",
       "  0.001 '\\*\\*' 0.01 '\\*' 0.05\n"
      ]
     }
    },
    {
     "output_type": "display_data",
     "metadata": {},
     "data": {
      "text/markdown": [
       "  -------------------------------------------------------------------------------------------------------------------------------------------------------------\n",
       "  Covariate                                        Yn-STP-CO2   Yn-STP-AAE10   Yn-STP-GRUD    Yn-Kinetic   Yn-STP-CO2   Yn-STP-AAE10   Yn-STP-GRUD   Yn-Kinetic\n",
       "  --------------------------------------------- ------------- -------------- ------------- ------------- ------------ -------------- ------------- ------------\n",
       "  (Intercept)                                     \\*\\*\\*1.059    \\*\\*\\*0.532   \\*\\*\\*1.096   \\*\\*\\*0.874                                           \n",
       "\n",
       "  k                                                                                             \\* 1.781                                           \n",
       "\n",
       "  k:log(PS)                                                                                   \\*\\* 0.795                                           \n",
       "\n",
       "  log(PS)                                                                                         -0.037                                           \n",
       "\n",
       "  log(soil_0_20_P_AAE10)                                         \\*\\*\\*0.120        -0.006                                                         \n",
       "\n",
       "  log(soil_0_20_P_CO2)                            \\*\\*\\*0.162                        0.137                                                         \n",
       "\n",
       "  log(soil_0_20_P_CO2):log(soil_0_20_P_AAE10)                                        0.016                                                         \n",
       "\n",
       "  R2m                                                   0.218          0.198         0.220         0.235                                           \n",
       "\n",
       "  R2c                                                   0.358          0.474         0.365         0.386                                           \n",
       "  -------------------------------------------------------------------------------------------------------------------------------------------------------------\n",
       "\n",
       "  : Coefficient Table for Ynorm and Yrel. Significant codes: 0 '\\*\\*\\*'\n",
       "  0.001 '\\*\\*' 0.01 '\\*' 0.05\n"
      ]
     }
    }
   ],
   "source": [
    "lmer_models <- list(\n",
    "  PS = fit.soil.PS,\n",
    "  k = fit.soil.k,\n",
    "  'log(k*PS)' = fit.soil.kPS,\n",
    "  'k*log(PS)' = fit.soil.kPS2,\n",
    "  CO2 = fit.soil.CO2,\n",
    "  AAE10 = fit.soil.AAE10\n",
    ")\n",
    "\n",
    "\n",
    "\n",
    "coef_table_soil <- create_coef_table(lmer_models)\n",
    "kable(coef_table_soil,\n",
    "row.names = FALSE,\n",
    "align = c(\"l\", rep(\"r\", ncol(coef_table_soil) - 1)),\n",
    "escape = FALSE,\n",
    "caption = \"Coefficient Table for Soil covariates. \n",
    "Significant codes:  0 '\\\\*\\\\*\\\\*' 0.001 '\\\\*\\\\*' 0.01 '\\\\*' 0.05\")\n"
   ],
   "id": "e961ed80-4f12-462d-be05-ea4cdcb91283"
  }
 ],
 "nbformat": 4,
 "nbformat_minor": 5,
 "metadata": {}
}
