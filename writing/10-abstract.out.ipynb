{
 "cells": [
  {
   "cell_type": "markdown",
   "metadata": {},
   "source": [
    "# \n",
    "\n",
    "# Abstract"
   ],
   "id": "dec07e51-7f7a-45e0-90dc-3531b4aea9d6"
  }
 ],
 "nbformat": 4,
 "nbformat_minor": 5,
 "metadata": {}
}
