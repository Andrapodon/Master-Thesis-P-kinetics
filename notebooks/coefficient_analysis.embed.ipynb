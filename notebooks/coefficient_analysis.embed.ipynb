{
 "cells": [
  {
   "cell_type": "markdown",
   "metadata": {},
   "source": [
    "# Kinetic Model Coefficient Analysis\n",
    "\n",
    "Marc Pérez  \n",
    "May 22, 2025"
   ],
   "id": "216725a7-281a-4bc0-9f47-aabd1ad7db70"
  },
  {
   "cell_type": "code",
   "execution_count": null,
   "metadata": {},
   "outputs": [],
   "source": [
    "#| include: false\n",
    "#| message: false\n",
    "#| warning: false\n",
    "\n",
    "suppressPackageStartupMessages({\n",
    "  library(multcomp)\n",
    "  library(car)\n",
    "  library(tidyr)\n",
    "  library(lme4)\n",
    "  library(ggplot2)\n",
    "  library(ggtext)\n",
    "  library(ggpmisc)\n",
    "  library(nlme)\n",
    "  library(latex2exp)\n",
    "  library(kableExtra)\n",
    "  library(broom)\n",
    "  library(dplyr)\n",
    "  library(MuMIn)\n",
    "})\n",
    "\n",
    "options(warn = -1)\n",
    "RES <- readRDS(\"~/Documents/Master Thesis/Master-Thesis-P-kinetics/data/RES.rds\")\n",
    "D <- RES$D\n",
    "d <- RES$data"
   ],
   "id": "bf540d71-090c-497a-be38-0424699a54a9"
  },
  {
   "cell_type": "markdown",
   "metadata": {},
   "source": [
    "Model Agroscope $$Y_{rel}\\sim A*(1-e^{rate*P_{CO_2}+Env})$$\n",
    "\n",
    "Wir ersetzen nur rate mit unserer Schätzung k: $$Y_{rel}\\sim A*(1-e^{k*P_{CO_2}+Env})$$\n",
    "\n",
    "Sind unsere Modelparameter gute Prediktoren?? $$Y_{rel}\\sim A*(1-e^{k*PS+Env} )$$\n",
    "\n",
    "Es gibt noch die Kovariaten Niederschlag pro Jahr, Jahresdurchschnittstemperatur und Temperatur in Jugendphase"
   ],
   "id": "0ec851fe-17ee-46a8-84ab-38b0a9d76f4b"
  },
  {
   "cell_type": "code",
   "execution_count": null,
   "metadata": {},
   "outputs": [],
   "source": [
    "#| eval: false\n",
    "#| include: false\n",
    "\n",
    "library(GGally)\n",
    "\n",
    "ggpairs(D, \n",
    "  aes(col=Site, shape = Treatment,alpha = 0.6), \n",
    "  columns = c(\"soil_0_20_P_AAE10\", \"soil_0_20_P_CO2\", \"PS\", \"k\", \"kPS\"),\n",
    "  lower = list(continuous = wrap(\"points\", size = 1.3)),\n",
    "  upper = list(continuous = \"blank\", combo = \"blank\", discrete = \"blank\"))  # Adjust size here\n",
    "  \n",
    "\n",
    "\n",
    "\n",
    "\n",
    "p6 <- ggplot(D,aes(y=soil_0_20_P_AAE10, x=soil_0_20_P_CO2, col=Site, size = Treatment)) +\n",
    "  geom_point(shape = 7) + \n",
    "  scale_x_log10() + scale_y_log10() +\n",
    "  labs(x=TeX(\"$P_{H_2O10}(mg/kg Soil)$\"),\n",
    "         y=TeX(\"$P_{AAEDTA}(mg/kg Soil)$\")); p6\n",
    "  \n",
    "p7 <- ggplot(D,aes(y=PS, x=soil_0_20_P_CO2, col=Site, size = Treatment)) +\n",
    "  geom_point(shape = 7) +\n",
    "  scale_x_log10() + scale_y_log10() +\n",
    "  labs(x=TeX(\"$P_{CO_2}(mg/kg Soil)$\"),\n",
    "          y=TeX(\"$PS(mg/kg Soil)$\")); p7\n",
    "\n",
    "p8 <- ggplot(D,aes(y=k, x=soil_0_20_P_CO2, col=Site, size = Treatment)) +\n",
    "  geom_point(shape = 7) +\n",
    "  scale_x_log10() +\n",
    "  labs(x=TeX(\"$P_{CO_2}(mg/kg Soil)$\"),\n",
    "         y=TeX(\"$k(1/s)$\")); p8\n",
    "\n",
    "p9 <- ggplot(D,aes(y=k*PS, x=soil_0_20_P_CO2, col=Site, size = Treatment)) +\n",
    "  geom_point(shape = 7) +\n",
    "  scale_x_log10() + scale_y_log10() +\n",
    "  labs(x=TeX(\"$P_{CO_2}(mg/kg Soil)$\"),\n",
    "         y=TeX(\"$v=k*PS(mg/s*kg Soil)$\"));p9\n",
    "\n",
    "\n",
    "p11 <- ggplot(D,aes(y=PS, x=soil_0_20_P_AAE10, col=Site, size = Treatment)) +\n",
    "  scale_x_log10() + scale_y_log10() +\n",
    "  geom_point(shape = 7) +\n",
    "  labs(x=TeX(\"$P_{AAEDTA}(mg/kg Soil)$\"),\n",
    "         y=TeX(\"$PS(mg/kg Soil)$\")); p11\n",
    "\n",
    "p12 <- ggplot(D,aes(y=k, x=soil_0_20_P_AAE10, col=Site, size = Treatment)) +\n",
    "  geom_point(shape = 7) +\n",
    "   scale_x_log10() + scale_y_log10() +\n",
    "  labs(x=TeX(\"$P_{AAEDTA}(mg/kg Soil)$\"),\n",
    "         y=TeX(\"$k(1/s)$\"))\n",
    "\n",
    "p12\n",
    "\n",
    "p13 <- ggplot(D,aes(y=k*PS, x=soil_0_20_P_AAE10, col=Site, size = Treatment)) +\n",
    "  scale_x_log10() + scale_y_log10() +\n",
    "  geom_point(shape = 7) +\n",
    "  labs(x=TeX(\"$P_{AAEDTA}(mg/kg Soil)$\"),\n",
    "         y=TeX(\"$log(v)=log(k*PS)(mg/s*kg Soil)$\"))\n",
    "\n",
    "p13"
   ],
   "id": "318f5b6e-55f2-4117-b99f-cc28413567a5"
  },
  {
   "cell_type": "markdown",
   "metadata": {},
   "source": [
    "Nun noch die Linearen Regressionen, die ausstehend sind:\n",
    "\n",
    "`(1|year) + (1|Site)  + (1|Site:block) + (Treatment|Site)`\n",
    "\n",
    "Random intercept per year and site, block nested in site. and Treatment nested in site (could also be modelled as a random slope to allow for correlations)\n",
    "\n",
    "wir sind abe nicht an einem Treatment effekt interesseiert. drum verwerfen wir Treatment als Random UND Fixed effekt.\n",
    "\n",
    "1.  Vergleiche PS, k und kPS mit"
   ],
   "id": "49bc87d5-2919-434d-982d-0c634ebed203"
  },
  {
   "cell_type": "code",
   "execution_count": null,
   "metadata": {},
   "outputs": [
    {
     "output_type": "stream",
     "name": "stderr",
     "text": [
      "\n",
      "Attaching package: 'lmerTest'"
     ]
    },
    {
     "output_type": "stream",
     "name": "stderr",
     "text": [
      "The following object is masked from 'package:lme4':\n",
      "\n",
      "    lmer"
     ]
    },
    {
     "output_type": "stream",
     "name": "stderr",
     "text": [
      "The following object is masked from 'package:stats':\n",
      "\n",
      "    step"
     ]
    },
    {
     "output_type": "stream",
     "name": "stderr",
     "text": [
      "boundary (singular) fit: see help('isSingular')"
     ]
    },
    {
     "output_type": "stream",
     "name": "stderr",
     "text": [
      "boundary (singular) fit: see help('isSingular')"
     ]
    },
    {
     "output_type": "stream",
     "name": "stderr",
     "text": [
      "boundary (singular) fit: see help('isSingular')"
     ]
    },
    {
     "output_type": "stream",
     "name": "stderr",
     "text": [
      "boundary (singular) fit: see help('isSingular')"
     ]
    },
    {
     "output_type": "stream",
     "name": "stderr",
     "text": [
      "boundary (singular) fit: see help('isSingular')"
     ]
    },
    {
     "output_type": "stream",
     "name": "stderr",
     "text": [
      "boundary (singular) fit: see help('isSingular')"
     ]
    },
    {
     "output_type": "stream",
     "name": "stdout",
     "text": [
      "            R2m       R2c\n",
      "[1,] 0.02402412 0.9173943"
     ]
    },
    {
     "output_type": "stream",
     "name": "stdout",
     "text": [
      "           R2m       R2c\n",
      "[1,] 0.2379547 0.8674634"
     ]
    },
    {
     "output_type": "stream",
     "name": "stderr",
     "text": [
      "boundary (singular) fit: see help('isSingular')"
     ]
    },
    {
     "output_type": "stream",
     "name": "stderr",
     "text": [
      "boundary (singular) fit: see help('isSingular')"
     ]
    },
    {
     "output_type": "stream",
     "name": "stdout",
     "text": [
      "            R2m       R2c\n",
      "[1,] 0.01104564 0.3620402"
     ]
    },
    {
     "output_type": "stream",
     "name": "stderr",
     "text": [
      "boundary (singular) fit: see help('isSingular')"
     ]
    },
    {
     "output_type": "stream",
     "name": "stdout",
     "text": [
      "            R2m       R2c\n",
      "[1,] 0.01391747 0.3596733"
     ]
    },
    {
     "output_type": "stream",
     "name": "stdout",
     "text": [
      "            R2m       R2c\n",
      "[1,] 0.05114188 0.2399041"
     ]
    },
    {
     "output_type": "stream",
     "name": "stderr",
     "text": [
      "boundary (singular) fit: see help('isSingular')"
     ]
    },
    {
     "output_type": "stream",
     "name": "stdout",
     "text": [
      "            R2m       R2c\n",
      "[1,] 0.02721952 0.2448253"
     ]
    },
    {
     "output_type": "stream",
     "name": "stderr",
     "text": [
      "boundary (singular) fit: see help('isSingular')"
     ]
    },
    {
     "output_type": "stream",
     "name": "stdout",
     "text": [
      "            R2m      R2c\n",
      "[1,] 0.01708162 0.484134"
     ]
    },
    {
     "output_type": "stream",
     "name": "stdout",
     "text": [
      "Linear mixed model fit by REML. t-tests use Kenward-Roger's method [\n",
      "lmerModLmerTest]\n",
      "Formula: Ymain_norm ~ k * log(PS) + (1 | year) + (1 | Site) + (1 | Site:block)\n",
      "   Data: D\n",
      " Subset: Treatment == \"P0\"\n",
      "\n",
      "REML criterion at convergence: 209.2\n",
      "\n",
      "Scaled residuals: \n",
      "    Min      1Q  Median      3Q     Max \n",
      "-2.5723 -0.2209  0.0187  0.3483  3.8086 \n",
      "\n",
      "Random effects:\n",
      " Groups     Name        Variance Std.Dev.\n",
      " Site:block (Intercept) 0.0000   0.0000  \n",
      " year       (Intercept) 0.1024   0.3200  \n",
      " Site       (Intercept) 0.1634   0.4042  \n",
      " Residual               0.2935   0.5418  \n",
      "Number of obs: 120, groups:  Site:block, 20; year, 6; Site, 5\n",
      "\n",
      "Fixed effects:\n",
      "             Estimate Std. Error        df t value Pr(>|t|)\n",
      "(Intercept)  1.738343   2.071122 12.765971   0.839    0.417\n",
      "k           -1.488991  11.262130 12.439272  -0.132    0.897\n",
      "log(PS)      0.104222   0.606923 12.181857   0.172    0.866\n",
      "k:log(PS)    0.006624   3.296268 12.185270   0.002    0.998\n",
      "\n",
      "Correlation of Fixed Effects:\n",
      "          (Intr) k      lg(PS)\n",
      "k         -0.944              \n",
      "log(PS)    0.985 -0.943       \n",
      "k:log(PS) -0.932  0.992 -0.946\n",
      "optimizer (nloptwrap) convergence code: 0 (OK)\n",
      "boundary (singular) fit: see help('isSingular')"
     ]
    },
    {
     "output_type": "stream",
     "name": "stdout",
     "text": [
      "            R2m       R2c\n",
      "[1,] 0.03937992 0.3521636"
     ]
    },
    {
     "output_type": "stream",
     "name": "stderr",
     "text": [
      "boundary (singular) fit: see help('isSingular')"
     ]
    },
    {
     "output_type": "stream",
     "name": "stdout",
     "text": [
      "            R2m        R2c\n",
      "[1,] 0.03146939 0.08523712"
     ]
    },
    {
     "output_type": "stream",
     "name": "stdout",
     "text": [
      "          R2m      R2c\n",
      "[1,] 0.218175 0.358219"
     ]
    },
    {
     "output_type": "stream",
     "name": "stdout",
     "text": [
      "           R2m       R2c\n",
      "[1,] 0.1976951 0.4740521"
     ]
    },
    {
     "output_type": "stream",
     "name": "stdout",
     "text": [
      "           R2m       R2c\n",
      "[1,] 0.2204812 0.3650344"
     ]
    },
    {
     "output_type": "stream",
     "name": "stderr",
     "text": [
      "boundary (singular) fit: see help('isSingular')"
     ]
    },
    {
     "output_type": "stream",
     "name": "stdout",
     "text": [
      "            R2m       R2c\n",
      "[1,] 0.01391747 0.3596733"
     ]
    },
    {
     "output_type": "stream",
     "name": "stderr",
     "text": [
      "boundary (singular) fit: see help('isSingular')"
     ]
    },
    {
     "output_type": "stream",
     "name": "stderr",
     "text": [
      "boundary (singular) fit: see help('isSingular')"
     ]
    },
    {
     "output_type": "stream",
     "name": "stderr",
     "text": [
      "there are higher-order terms (interactions) in this model\n",
      "consider setting type = 'predictor'; see ?vif"
     ]
    },
    {
     "output_type": "stream",
     "name": "stdout",
     "text": [
      "              GVIF Df GVIF^(1/(2*Df))\n",
      "k         12.64859  1        3.556485\n",
      "log(PS)   12.32336  1        3.510465\n",
      "crop       1.05128  4        1.006271\n",
      "k:log(PS) 29.55436  1        5.436392"
     ]
    },
    {
     "output_type": "stream",
     "name": "stderr",
     "text": [
      "there are higher-order terms (interactions) in this model\n",
      "consider setting type = 'predictor'; see ?vif"
     ]
    },
    {
     "output_type": "stream",
     "name": "stdout",
     "text": [
      "                            GVIF Df GVIF^(1/(2*Df))\n",
      "scale(k)                1.130309  1        1.063160\n",
      "scale(log(PS))          1.074904  1        1.036776\n",
      "crop                    1.051280  4        1.006271\n",
      "scale(k):scale(log(PS)) 1.019256  1        1.009582"
     ]
    },
    {
     "output_type": "stream",
     "name": "stdout",
     "text": [
      "            GVIF Df GVIF^(1/(2*Df))\n",
      "k       1.121012  1        1.058778\n",
      "log(PS) 1.069713  1        1.034270\n",
      "crop    1.050571  4        1.006186"
     ]
    },
    {
     "output_type": "stream",
     "name": "stdout",
     "text": [
      "                GVIF Df GVIF^(1/(2*Df))\n",
      "I(k * (PS)) 4.642883  1        2.154735\n",
      "k           2.035796  1        1.426813\n",
      "log(PS)     4.711359  1        2.170567\n",
      "crop        1.052981  4        1.006474"
     ]
    },
    {
     "output_type": "display_data",
     "metadata": {},
     "data": {
      "image/png": "[encoded data removed]"
     }
    },
    {
     "output_type": "display_data",
     "metadata": {},
     "data": {
      "image/png": "[encoded data removed]"
     }
    },
    {
     "output_type": "stream",
     "name": "stdout",
     "text": [
      "            R2m       R2c\n",
      "[1,] 0.01391747 0.3596733"
     ]
    },
    {
     "output_type": "stream",
     "name": "stdout",
     "text": [
      "Type III Analysis of Variance Table with Satterthwaite's method\n",
      "                  Sum Sq Mean Sq NumDF  DenDF F value   Pr(>F)   \n",
      "soil_0_20_clay   0.05971 0.05971     1 60.276  1.7197 0.194699   \n",
      "soil_0_20_pH_H2O 0.00345 0.00345     1 70.953  0.0994 0.753451   \n",
      "soil_0_20_Corg   0.36611 0.36611     1 50.241 10.5443 0.002079 **\n",
      "soil_0_20_silt   0.01827 0.01827     1 82.724  0.5263 0.470225   \n",
      "---\n",
      "Signif. codes:  0 '***' 0.001 '**' 0.01 '*' 0.05 '.' 0.1 ' ' 1"
     ]
    },
    {
     "output_type": "stream",
     "name": "stdout",
     "text": [
      "Type III Analysis of Variance Table with Satterthwaite's method\n",
      "                    Sum Sq   Mean Sq NumDF  DenDF F value   Pr(>F)   \n",
      "soil_0_20_clay   0.0037589 0.0037589     1 66.215  2.9776 0.089090 . \n",
      "soil_0_20_pH_H2O 0.0103321 0.0103321     1 64.590  8.1844 0.005686 **\n",
      "soil_0_20_Corg   0.0000556 0.0000556     1 66.276  0.0441 0.834382   \n",
      "soil_0_20_silt   0.0082941 0.0082941     1 51.342  6.5701 0.013342 * \n",
      "---\n",
      "Signif. codes:  0 '***' 0.001 '**' 0.01 '*' 0.05 '.' 0.1 ' ' 1"
     ]
    },
    {
     "output_type": "stream",
     "name": "stdout",
     "text": [
      "\n",
      "     Simultaneous Tests for General Linear Hypotheses\n",
      "\n",
      "Fit: lmer(formula = k ~ soil_0_20_clay + soil_0_20_pH_H2O + soil_0_20_Corg + \n",
      "    soil_0_20_silt + (1 | year) + (1 | Site) + (1 | Site:block) + \n",
      "    (1 | Site:Treatment), data = D)\n",
      "\n",
      "Linear Hypotheses:\n",
      "                       Estimate Std. Error z value Pr(>|z|)  \n",
      "(Intercept) == 0      -0.130397   0.140751  -0.926   0.8031  \n",
      "soil_0_20_clay == 0   -0.003849   0.002231  -1.726   0.2924  \n",
      "soil_0_20_pH_H2O == 0  0.032934   0.011512   2.861   0.0194 *\n",
      "soil_0_20_Corg == 0   -0.006614   0.031508  -0.210   0.9990  \n",
      "soil_0_20_silt == 0    0.006743   0.002631   2.563   0.0448 *\n",
      "---\n",
      "Signif. codes:  0 '***' 0.001 '**' 0.01 '*' 0.05 '.' 0.1 ' ' 1\n",
      "(Adjusted p values reported -- single-step method)"
     ]
    },
    {
     "output_type": "stream",
     "name": "stdout",
     "text": [
      "Type III Analysis of Variance Table with Satterthwaite's method\n",
      "                   Sum Sq  Mean Sq NumDF  DenDF F value  Pr(>F)  \n",
      "soil_0_20_clay   0.005861 0.005861     1 82.839  0.0917 0.76273  \n",
      "soil_0_20_pH_H2O 0.253558 0.253558     1 82.702  3.9692 0.04964 *\n",
      "soil_0_20_Corg   0.017639 0.017639     1 70.803  0.2761 0.60090  \n",
      "soil_0_20_silt   0.035303 0.035303     1 88.410  0.5526 0.45921  \n",
      "---\n",
      "Signif. codes:  0 '***' 0.001 '**' 0.01 '*' 0.05 '.' 0.1 ' ' 1"
     ]
    },
    {
     "output_type": "stream",
     "name": "stdout",
     "text": [
      "\n",
      "     Simultaneous Tests for General Linear Hypotheses\n",
      "\n",
      "Fit: lmer(formula = I(log(k * PS)) ~ soil_0_20_clay + soil_0_20_pH_H2O + \n",
      "    soil_0_20_Corg + soil_0_20_silt + (1 | year) + (1 | Site) + \n",
      "    (1 | Site:block) + (1 | Site:Treatment), data = D)\n",
      "\n",
      "Linear Hypotheses:\n",
      "                      Estimate Std. Error z value Pr(>|z|)    \n",
      "(Intercept) == 0      -6.10829    1.31189  -4.656   <0.001 ***\n",
      "soil_0_20_clay == 0   -0.00606    0.02001  -0.303    0.997    \n",
      "soil_0_20_pH_H2O == 0  0.19127    0.09601   1.992    0.184    \n",
      "soil_0_20_Corg == 0    0.12779    0.24319   0.525    0.974    \n",
      "soil_0_20_silt == 0    0.01849    0.02487   0.743    0.911    \n",
      "---\n",
      "Signif. codes:  0 '***' 0.001 '**' 0.01 '*' 0.05 '.' 0.1 ' ' 1\n",
      "(Adjusted p values reported -- single-step method)"
     ]
    },
    {
     "output_type": "stream",
     "name": "stdout",
     "text": [
      "Type III Analysis of Variance Table with Satterthwaite's method\n",
      "           Sum Sq Mean Sq NumDF  DenDF F value   Pr(>F)   \n",
      "k         10361.3 10361.3     1 243.49  7.0248 0.008566 **\n",
      "log(PS)    9132.5  9132.5     1 243.72  6.1918 0.013504 * \n",
      "k:log(PS) 12026.0 12026.0     1 243.87  8.1535 0.004668 **\n",
      "---\n",
      "Signif. codes:  0 '***' 0.001 '**' 0.01 '*' 0.05 '.' 0.1 ' ' 1"
     ]
    },
    {
     "output_type": "stream",
     "name": "stdout",
     "text": [
      "Type III Analysis of Variance Table with Satterthwaite's method\n",
      "            Sum Sq  Mean Sq NumDF  DenDF F value Pr(>F)\n",
      "k         0.182097 0.182097     1 229.90  0.6950 0.4053\n",
      "log(PS)   0.029224 0.029224     1 229.48  0.1115 0.7387\n",
      "k:log(PS) 0.232300 0.232300     1 229.46  0.8866 0.3474"
     ]
    },
    {
     "output_type": "stream",
     "name": "stdout",
     "text": [
      "Type III Analysis of Variance Table with Satterthwaite's method\n",
      "          Sum Sq Mean Sq NumDF  DenDF F value Pr(>F)\n",
      "k         35.305  35.305     1 247.74  0.5252 0.4693\n",
      "log(PS)   39.586  39.586     1 248.15  0.5889 0.4436\n",
      "k:log(PS) 53.624  53.624     1 248.29  0.7978 0.3726"
     ]
    },
    {
     "output_type": "stream",
     "name": "stdout",
     "text": [
      "Type III Analysis of Variance Table with Satterthwaite's method\n",
      "                   Sum Sq  Mean Sq NumDF  DenDF F value  Pr(>F)  \n",
      "soil_0_20_clay   0.001204 0.001204     1 55.784  0.0365 0.84927  \n",
      "soil_0_20_pH_H2O 0.166954 0.166954     1 68.215  5.0574 0.02775 *\n",
      "soil_0_20_Corg   0.195107 0.195107     1 44.241  5.9103 0.01917 *\n",
      "soil_0_20_silt   0.031962 0.031962     1 81.136  0.9682 0.32805  \n",
      "---\n",
      "Signif. codes:  0 '***' 0.001 '**' 0.01 '*' 0.05 '.' 0.1 ' ' 1"
     ]
    },
    {
     "output_type": "stream",
     "name": "stdout",
     "text": [
      "Type III Analysis of Variance Table with Satterthwaite's method\n",
      "                  Sum Sq Mean Sq NumDF  DenDF F value    Pr(>F)    \n",
      "soil_0_20_clay   0.02462 0.02462     1 70.278  0.6521  0.422079    \n",
      "soil_0_20_pH_H2O 0.79836 0.79836     1 75.915 21.1499 1.666e-05 ***\n",
      "soil_0_20_Corg   0.31812 0.31812     1 56.367  8.4276  0.005266 ** \n",
      "soil_0_20_silt   0.00145 0.00145     1 87.492  0.0383  0.845249    \n",
      "---\n",
      "Signif. codes:  0 '***' 0.001 '**' 0.01 '*' 0.05 '.' 0.1 ' ' 1"
     ]
    },
    {
     "output_type": "stream",
     "name": "stdout",
     "text": [
      "Type III Analysis of Variance Table with Satterthwaite's method\n",
      "           Sum Sq Mean Sq NumDF  DenDF F value    Pr(>F)    \n",
      "k          411.53  411.53     1 228.31  2.6679    0.1038    \n",
      "log(PS)   2451.67 2451.67     1 236.98 15.8941 8.925e-05 ***\n",
      "k:log(PS)  335.79  335.79     1 232.66  2.1769    0.1414    \n",
      "---\n",
      "Signif. codes:  0 '***' 0.001 '**' 0.01 '*' 0.05 '.' 0.1 ' ' 1"
     ]
    },
    {
     "output_type": "stream",
     "name": "stdout",
     "text": [
      "Linear mixed model fit by REML. t-tests use Satterthwaite's method [\n",
      "lmerModLmerTest]\n",
      "Formula: annual_P_balance ~ k * log(PS) + (1 | year) + (1 | Site) + (1 |  \n",
      "    Site:block)\n",
      "   Data: D\n",
      "\n",
      "REML criterion at convergence: 2172.1\n",
      "\n",
      "Scaled residuals: \n",
      "    Min      1Q  Median      3Q     Max \n",
      "-4.2416 -0.5978  0.0314  0.5493  2.8712 \n",
      "\n",
      "Random effects:\n",
      " Groups     Name        Variance Std.Dev.\n",
      " Site:block (Intercept)  20.33    4.508  \n",
      " year       (Intercept)  59.32    7.702  \n",
      " Site       (Intercept)  23.97    4.896  \n",
      " Residual               154.25   12.420  \n",
      "Number of obs: 274, groups:  Site:block, 16; year, 6; Site, 4\n",
      "\n",
      "Fixed effects:\n",
      "            Estimate Std. Error      df t value Pr(>|t|)    \n",
      "(Intercept)   43.833     10.402 146.531   4.214 4.37e-05 ***\n",
      "k             84.993     52.035 228.313   1.633    0.104    \n",
      "log(PS)       16.947      4.251 236.979   3.987 8.92e-05 ***\n",
      "k:log(PS)     33.029     22.386 232.660   1.475    0.141    \n",
      "---\n",
      "Signif. codes:  0 '***' 0.001 '**' 0.01 '*' 0.05 '.' 0.1 ' ' 1\n",
      "\n",
      "Correlation of Fixed Effects:\n",
      "          (Intr) k      lg(PS)\n",
      "k         -0.887              \n",
      "log(PS)    0.858 -0.901       \n",
      "k:log(PS) -0.843  0.944 -0.971"
     ]
    },
    {
     "output_type": "stream",
     "name": "stdout",
     "text": [
      "           R2m       R2c\n",
      "[1,] 0.5718185 0.7438699"
     ]
    },
    {
     "output_type": "stream",
     "name": "stdout",
     "text": [
      "            R2m       R2c\n",
      "[1,] 0.06433359 0.6476313"
     ]
    },
    {
     "output_type": "stream",
     "name": "stdout",
     "text": [
      "            R2m       R2c\n",
      "[1,] 0.02182182 0.4385486"
     ]
    },
    {
     "output_type": "stream",
     "name": "stdout",
     "text": [
      "            R2m       R2c\n",
      "[1,] 0.01391747 0.3596733"
     ]
    }
   ],
   "source": [
    "#|code-fold: true\n",
    "#|tidy: true\n",
    "\n",
    "\n",
    "# Wovon hängen Modelparameter ab?\n",
    "\n",
    "library(lmerTest)"
   ],
   "id": "feb65c5d-e614-49cf-96e7-1bd10b9f13d9"
  },
  {
   "cell_type": "markdown",
   "metadata": {},
   "source": [
    "Since we now model two measurement methods, we do not expect correlations by Site/year/etc"
   ],
   "id": "123c3f53-0e67-4728-8f4b-ad71bb0cfe1c"
  },
  {
   "cell_type": "code",
   "execution_count": null,
   "metadata": {},
   "outputs": [
    {
     "output_type": "stream",
     "name": "stderr",
     "text": [
      "boundary (singular) fit: see help('isSingular')"
     ]
    },
    {
     "output_type": "stream",
     "name": "stderr",
     "text": [
      "boundary (singular) fit: see help('isSingular')"
     ]
    },
    {
     "output_type": "stream",
     "name": "stderr",
     "text": [
      "boundary (singular) fit: see help('isSingular')"
     ]
    },
    {
     "output_type": "stream",
     "name": "stderr",
     "text": [
      "boundary (singular) fit: see help('isSingular')"
     ]
    },
    {
     "output_type": "stream",
     "name": "stderr",
     "text": [
      "boundary (singular) fit: see help('isSingular')"
     ]
    },
    {
     "output_type": "stream",
     "name": "stderr",
     "text": [
      "boundary (singular) fit: see help('isSingular')"
     ]
    },
    {
     "output_type": "stream",
     "name": "stderr",
     "text": [
      "boundary (singular) fit: see help('isSingular')"
     ]
    },
    {
     "output_type": "stream",
     "name": "stdout",
     "text": [
      "\n",
      "     Simultaneous Tests for General Linear Hypotheses\n",
      "\n",
      "Fit: lm(formula = log(PS) ~ log(soil_0_20_P_CO2) + log(soil_0_20_P_AAE10), \n",
      "    data = D)\n",
      "\n",
      "Linear Hypotheses:\n",
      "                            Estimate Std. Error t value Pr(>|t|)    \n",
      "(Intercept) == 0            -0.61404    0.20562  -2.986  0.00519 ** \n",
      "log(soil_0_20_P_CO2) == 0    1.30106    0.05963  21.819  < 0.001 ***\n",
      "log(soil_0_20_P_AAE10) == 0 -0.24892    0.05163  -4.821  < 0.001 ***\n",
      "---\n",
      "Signif. codes:  0 '***' 0.001 '**' 0.01 '*' 0.05 '.' 0.1 ' ' 1\n",
      "(Adjusted p values reported -- single-step method)"
     ]
    },
    {
     "output_type": "stream",
     "name": "stdout",
     "text": [
      "\n",
      "     Simultaneous Tests for General Linear Hypotheses\n",
      "\n",
      "Fit: lm(formula = k ~ log(soil_0_20_P_CO2) + log(soil_0_20_P_AAE10), \n",
      "    data = D)\n",
      "\n",
      "Linear Hypotheses:\n",
      "                             Estimate Std. Error t value Pr(>|t|)    \n",
      "(Intercept) == 0             0.074843   0.026807   2.792  0.00998 ** \n",
      "log(soil_0_20_P_CO2) == 0   -0.031362   0.007774  -4.034  < 0.001 ***\n",
      "log(soil_0_20_P_AAE10) == 0  0.029663   0.006731   4.407  < 0.001 ***\n",
      "---\n",
      "Signif. codes:  0 '***' 0.001 '**' 0.01 '*' 0.05 '.' 0.1 ' ' 1\n",
      "(Adjusted p values reported -- single-step method)"
     ]
    },
    {
     "output_type": "stream",
     "name": "stdout",
     "text": [
      "\n",
      "     Simultaneous Tests for General Linear Hypotheses\n",
      "\n",
      "Fit: lm(formula = I(log(k * PS)) ~ log(soil_0_20_P_CO2) + log(soil_0_20_P_AAE10), \n",
      "    data = D)\n",
      "\n",
      "Linear Hypotheses:\n",
      "                            Estimate Std. Error t value Pr(>|t|)    \n",
      "(Intercept) == 0            -2.89619    0.20538 -14.102   <0.001 ***\n",
      "log(soil_0_20_P_CO2) == 0    1.12637    0.05956  18.912   <0.001 ***\n",
      "log(soil_0_20_P_AAE10) == 0 -0.10426    0.05157  -2.022   0.0721 .  \n",
      "---\n",
      "Signif. codes:  0 '***' 0.001 '**' 0.01 '*' 0.05 '.' 0.1 ' ' 1\n",
      "(Adjusted p values reported -- single-step method)"
     ]
    },
    {
     "output_type": "stream",
     "name": "stdout",
     "text": [
      "Linear mixed model fit by REML. t-tests use Satterthwaite's method [\n",
      "lmerModLmerTest]\n",
      "Formula: Ymain_rel ~ log(soil_0_20_P_CO2) + log(soil_0_20_P_AAE10) + (1 |  \n",
      "    year) + (1 | Site) + (1 | Site:block) + (1 | Site:Treatment)\n",
      "   Data: D\n",
      "\n",
      "REML criterion at convergence: 1740.2\n",
      "\n",
      "Scaled residuals: \n",
      "     Min       1Q   Median       3Q      Max \n",
      "-3.00124 -0.58425 -0.01625  0.57153  2.82374 \n",
      "\n",
      "Random effects:\n",
      " Groups         Name        Variance Std.Dev.\n",
      " Site:block     (Intercept)   2.612   1.616  \n",
      " Site:Treatment (Intercept)  15.818   3.977  \n",
      " year           (Intercept) 161.127  12.694  \n",
      " Site           (Intercept)  54.936   7.412  \n",
      " Residual                   196.854  14.030  \n",
      "Number of obs: 212, groups:  \n",
      "Site:block, 16; Site:Treatment, 12; year, 5; Site, 4\n",
      "\n",
      "Fixed effects:\n",
      "                       Estimate Std. Error       df t value Pr(>|t|)    \n",
      "(Intercept)            108.4942    17.6735  40.7465   6.139 2.81e-07 ***\n",
      "log(soil_0_20_P_CO2)     9.6918     4.2287  30.9801   2.292   0.0289 *  \n",
      "log(soil_0_20_P_AAE10)  -0.9326     4.1643  46.0411  -0.224   0.8238    \n",
      "---\n",
      "Signif. codes:  0 '***' 0.001 '**' 0.01 '*' 0.05 '.' 0.1 ' ' 1\n",
      "\n",
      "Correlation of Fixed Effects:\n",
      "            (Intr) l(_0_20_P_C\n",
      "l(_0_20_P_C  0.830            \n",
      "l(_0_20_P_A -0.915 -0.858     "
     ]
    },
    {
     "output_type": "stream",
     "name": "stdout",
     "text": [
      "Linear mixed model fit by REML. t-tests use Satterthwaite's method [\n",
      "lmerModLmerTest]\n",
      "Formula: annual_P_uptake ~ log(soil_0_20_P_CO2) + log(soil_0_20_P_AAE10) +  \n",
      "    (1 | year) + (1 | Site) + (1 | Site:block) + (1 | Site:Treatment)\n",
      "   Data: D\n",
      "\n",
      "REML criterion at convergence: 1844.3\n",
      "\n",
      "Scaled residuals: \n",
      "    Min      1Q  Median      3Q     Max \n",
      "-3.1941 -0.4246 -0.0380  0.3941  4.7946 \n",
      "\n",
      "Random effects:\n",
      " Groups         Name        Variance  Std.Dev.\n",
      " Site:block     (Intercept) 0.000e+00 0.000000\n",
      " Site:Treatment (Intercept) 1.036e-06 0.001018\n",
      " year           (Intercept) 7.372e+01 8.586275\n",
      " Site           (Intercept) 2.427e+01 4.926572\n",
      " Residual                   6.686e+01 8.177020\n",
      "Number of obs: 259, groups:  \n",
      "Site:block, 16; Site:Treatment, 12; year, 6; Site, 4\n",
      "\n",
      "Fixed effects:\n",
      "                       Estimate Std. Error       df t value Pr(>|t|)   \n",
      "(Intercept)             24.7259     8.5160  64.7088   2.903  0.00504 **\n",
      "log(soil_0_20_P_CO2)     4.5632     1.7896 205.5645   2.550  0.01151 * \n",
      "log(soil_0_20_P_AAE10)   0.7243     1.8948 175.6048   0.382  0.70275   \n",
      "---\n",
      "Signif. codes:  0 '***' 0.001 '**' 0.01 '*' 0.05 '.' 0.1 ' ' 1\n",
      "\n",
      "Correlation of Fixed Effects:\n",
      "            (Intr) l(_0_20_P_C\n",
      "l(_0_20_P_C  0.802            \n",
      "l(_0_20_P_A -0.859 -0.899     \n",
      "optimizer (nloptwrap) convergence code: 0 (OK)\n",
      "boundary (singular) fit: see help('isSingular')"
     ]
    },
    {
     "output_type": "stream",
     "name": "stdout",
     "text": [
      "Linear mixed model fit by REML. t-tests use Satterthwaite's method [\n",
      "lmerModLmerTest]\n",
      "Formula: annual_P_balance ~ log(soil_0_20_P_CO2) + log(soil_0_20_P_AAE10) +  \n",
      "    (1 | year) + (1 | Site) + (1 | Site:block) + (1 | Site:Treatment)\n",
      "   Data: D\n",
      "\n",
      "REML criterion at convergence: 2129.3\n",
      "\n",
      "Scaled residuals: \n",
      "    Min      1Q  Median      3Q     Max \n",
      "-4.3544 -0.5456  0.0619  0.5653  2.8045 \n",
      "\n",
      "Random effects:\n",
      " Groups         Name        Variance  Std.Dev. \n",
      " Site:block     (Intercept) 0.000e+00  0.000000\n",
      " Site:Treatment (Intercept) 4.284e+02 20.698518\n",
      " year           (Intercept) 5.796e+01  7.613248\n",
      " Site           (Intercept) 1.382e-06  0.001176\n",
      " Residual                   1.145e+02 10.701982\n",
      "Number of obs: 274, groups:  \n",
      "Site:block, 16; Site:Treatment, 12; year, 6; Site, 4\n",
      "\n",
      "Fixed effects:\n",
      "                       Estimate Std. Error       df t value Pr(>|t|)\n",
      "(Intercept)              6.5755    15.3463 150.9193   0.428    0.669\n",
      "log(soil_0_20_P_CO2)    -0.4298     4.2050 260.9577  -0.102    0.919\n",
      "log(soil_0_20_P_AAE10)  -0.5459     3.4874 264.0262  -0.157    0.876\n",
      "\n",
      "Correlation of Fixed Effects:\n",
      "            (Intr) l(_0_20_P_C\n",
      "l(_0_20_P_C  0.754            \n",
      "l(_0_20_P_A -0.888 -0.754     \n",
      "optimizer (nloptwrap) convergence code: 0 (OK)\n",
      "boundary (singular) fit: see help('isSingular')"
     ]
    },
    {
     "output_type": "stream",
     "name": "stdout",
     "text": [
      "              R2m       R2c\n",
      "[1,] 0.0006758751 0.8095345"
     ]
    },
    {
     "output_type": "stream",
     "name": "stdout",
     "text": [
      "            R2m       R2c\n",
      "[1,] 0.06600072 0.6211875"
     ]
    },
    {
     "output_type": "stream",
     "name": "stdout",
     "text": [
      "            R2m       R2c\n",
      "[1,] 0.07256889 0.5767479"
     ]
    }
   ],
   "source": [
    "#|code-fold: true\n",
    "#|tidy: true\n",
    "# fit.PS       <- lm(PS            ~ soil_0_20_P_CO2 + soil_0_20_P_AAE10, D)\n",
    "fit.grud.PS       <- lm(log(PS)         ~ log(soil_0_20_P_CO2) + log(soil_0_20_P_AAE10), D)\n",
    "fit.grud.k        <- lm(k               ~ log(soil_0_20_P_CO2) + log(soil_0_20_P_AAE10), D)\n",
    "fit.grud.kPS      <- lm(I(log(k*PS))    ~ log(soil_0_20_P_CO2) + log(soil_0_20_P_AAE10), D)\n",
    "\n",
    "fit.grud.CO2.Yrel     <- lmer(Ymain_rel       ~ log(soil_0_20_P_CO2) + (1|year) + (1|Site)  + (1|Site:block) + (1|Site:Treatment), D)\n",
    "fit.grud.AAE10.Yrel     <- lmer(Ymain_rel       ~ log(soil_0_20_P_AAE10) + (1|year) + (1|Site)  + (1|Site:block) + (1|Site:Treatment), D)"
   ],
   "id": "0eef672d-f521-4317-9cf1-6e9a02e0b1df"
  },
  {
   "cell_type": "code",
   "execution_count": null,
   "metadata": {},
   "outputs": [],
   "source": [
    "create_coef_table <- function(lmer_models, \n",
    "                              covariate_order = NULL, \n",
    "                              covariate_labels = NULL, # NEU: Benannter Vektor für Zeilennamen\n",
    "                              model_labels = NULL) {   # NEU: Benannter Vektor für Spaltennamen\n",
    "\n",
    "  # Extract coefficients and p-values (Ihre Originalfunktion, keine Änderung hier)\n",
    "  extract_coef_info <- function(model) {\n",
    "    # ... (keine Änderung, Ihr Code bleibt hier)\n",
    "    coef_matrix <- summary(model)|> coef()\n",
    "    estimates <- coef_matrix[, 1]\n",
    "    p_values <- coef_matrix[, ncol(coef_matrix)]\n",
    "    formatted_coef <- sapply(seq_along(estimates), function(i) {\n",
    "      est_str <- sprintf(\"%.3f\", estimates[i])\n",
    "      stars <- if (p_values[i] < 0.001) \"***\" else\n",
    "               if (p_values[i] < 0.01) \"** \" else\n",
    "               if (p_values[i] < 0.05) \"* \" else  \"\"\n",
    "      paste0(stars, est_str)\n",
    "    })\n",
    "    names(formatted_coef) <- rownames(coef_matrix)\n",
    "    return(formatted_coef)\n",
    "  }\n",
    "\n",
    "  # Extract R-squared values (Ihre Originalfunktion, keine Änderung hier)\n",
    "  extract_r_squared <- function(model) {\n",
    "    # ... (keine Änderung, Ihr Code bleibt hier)\n",
    "    r2_values <- MuMIn::r.squaredGLMM(model) # MuMIn:: hinzugefügt für Klarheit\n",
    "    return(c(\n",
    "      R2m = sprintf(\"%.3f\", r2_values[1, \"R2m\"]),\n",
    "      R2c = sprintf(\"%.3f\", r2_values[1, \"R2c\"])\n",
    "    ))\n",
    "  }\n",
    "\n",
    "  # Daten extrahieren (Ihr Originalcode)\n",
    "  all_coefs <- lapply(lmer_models, extract_coef_info)\n",
    "  all_r_squared <- lapply(lmer_models, extract_r_squared)\n",
    "  all_covariate_names <- unique(unlist(lapply(all_coefs, names)))\n",
    "\n",
    "  if (is.null(covariate_order)) {\n",
    "    covariate_order <- c(\"(Intercept)\", sort(all_covariate_names[all_covariate_names != \"(Intercept)\"]))\n",
    "  }\n",
    "  covariate_order <- covariate_order[covariate_order %in% all_covariate_names]\n",
    "  final_order <- c(covariate_order, \"R2m\", \"R2c\")\n",
    "\n",
    "  # Matrix erstellen (Ihr Originalcode)\n",
    "  results_matrix <- matrix(\"\",\n",
    "                           nrow = length(final_order),\n",
    "                           ncol = length(lmer_models),\n",
    "                           dimnames = list(final_order, names(lmer_models)))\n",
    "\n",
    "  # Matrix füllen (Ihr Originalcode)\n",
    "  for (model_name in names(lmer_models)) {\n",
    "    model_coefs <- all_coefs[[model_name]]\n",
    "    for (covar in names(model_coefs)) {\n",
    "      if (covar %in% covariate_order) {\n",
    "        results_matrix[covar, model_name] <- model_coefs[covar]\n",
    "      }\n",
    "    }\n",
    "    r2_values <- all_r_squared[[model_name]]\n",
    "    results_matrix[\"R2m\", model_name] <- r2_values[\"R2m\"]\n",
    "    results_matrix[\"R2c\", model_name] <- r2_values[\"R2c\"]\n",
    "  }\n",
    "\n",
    "  # --- NEU: Zeilen- und Spaltennamen ersetzen ---\n",
    "  \n",
    "  # Ersetze die Zeilennamen (Kovariaten), falls covariate_labels übergeben wurde\n",
    "  if (!is.null(covariate_labels)) {\n",
    "    # Finde die Übereinstimmungen in den aktuellen Zeilennamen\n",
    "    row_matches <- match(rownames(results_matrix), names(covariate_labels))\n",
    "    # Ersetze nur die, die gefunden wurden\n",
    "    new_rownames <- rownames(results_matrix)\n",
    "    new_rownames[!is.na(row_matches)] <- covariate_labels[row_matches[!is.na(row_matches)]]\n",
    "    rownames(results_matrix) <- new_rownames\n",
    "  }\n",
    "  \n",
    "  # Ersetze die Spaltennamen (Modelle), falls model_labels übergeben wurde\n",
    "  if (!is.null(model_labels)) {\n",
    "    col_matches <- match(colnames(results_matrix), names(model_labels))\n",
    "    new_colnames <- colnames(results_matrix)\n",
    "    new_colnames[!is.na(col_matches)] <- model_labels[col_matches[!is.na(col_matches)]]\n",
    "    colnames(results_matrix) <- new_colnames\n",
    "  }\n",
    "  \n",
    "  # --- Ende der neuen Sektion ---\n",
    "\n",
    "  # Convert to data frame for kable\n",
    "  results_df <- data.frame(Covariate = rownames(results_matrix),\n",
    "                           results_matrix,\n",
    "                           check.names = FALSE, # Verhindert, dass R Spaltennamen ändert\n",
    "                           stringsAsFactors = FALSE)\n",
    "  \n",
    "  results_df\n",
    "}"
   ],
   "id": "0a9cea3d-7fe1-436f-9363-1175eab8a0ab"
  },
  {
   "cell_type": "code",
   "execution_count": null,
   "metadata": {},
   "outputs": [
    {
     "output_type": "display_data",
     "metadata": {},
     "data": {
      "text/markdown": [
       "  ---------------------------------------------------------------------------------------------\n",
       "  Covariate                      PS        k     log(k\\*PS)   k\\*log(PS)      CO2         AAE10\n",
       "  ------------------ -------------- -------- -------------- ------------ -------- -------------\n",
       "  (Intercept)          \\*\\*\\*-3.807   -0.130   \\*\\*\\*-6.108       -0.216       \\*        -0.419\n",
       "                                                                           -2.034 \n",
       "\n",
       "  soil_0_20_clay              0.018   -0.004         -0.006     \\* 0.014    0.002         0.012\n",
       "\n",
       "  soil_0_20_Corg         \\*\\* 0.507   -0.007          0.128        0.077 \\* 0.364    \\*\\* 0.502\n",
       "\n",
       "  soil_0_20_pH_H2O            0.021     \\*\\*       \\* 0.191       -0.066 \\* 0.141   \\*\\*\\*0.323\n",
       "                                       0.033                                      \n",
       "\n",
       "  soil_0_20_silt             -0.013 \\* 0.007          0.018       -0.013   -0.017        -0.004\n",
       "\n",
       "  R2m                         0.074    0.356          0.024        0.238    0.035         0.091\n",
       "\n",
       "  R2c                         0.955    0.704          0.917        0.867    0.931         0.931\n",
       "  ---------------------------------------------------------------------------------------------\n",
       "\n",
       "  : Coefficient Table for Soil covariates. Significant codes: 0 '\\*\\*\\*'\n",
       "  0.001 '\\*\\*' 0.01 '\\*' 0.05\n"
      ]
     }
    },
    {
     "output_type": "display_data",
     "metadata": {},
     "data": {
      "text/markdown": [
       "  -----------------------------------------------------------------------------------------------------------------------------------------------------------------\n",
       "  Covariate                                        Yn-STP-CO2   Yn-STP-AAE10   Yn-STP-GRUD   Yn-Kinetic      Yr-STP-CO2   Yr-STP-AAE10     Yr-STP-GRUD   Yr-Kinetic\n",
       "  --------------------------------------------- ------------- -------------- ------------- ------------ --------------- -------------- --------------- ------------\n",
       "  (Intercept)                                     \\*\\*\\*1.059    \\*\\*\\*0.532   \\*\\*\\*1.096        0.980   \\*\\*\\*104.862   \\*\\*\\*75.343   \\*\\*\\*108.494       56.375\n",
       "\n",
       "  k                                                                                               2.262                                                \\*\\* 377.498\n",
       "\n",
       "  k:log(PS)                                                                                       0.931                                                \\*\\* 171.507\n",
       "\n",
       "  log(PS)                                                                                        -0.063                                                  \\* -27.486\n",
       "\n",
       "  log(soil_0_20_P_AAE10)                                         \\*\\*\\*0.120        -0.006                                  \\*\\* 7.111          -0.933 \n",
       "\n",
       "  log(soil_0_20_P_CO2)                            \\*\\*\\*0.162                        0.137                   \\*\\* 8.853                       \\* 9.692 \n",
       "\n",
       "  log(soil_0_20_P_CO2):log(soil_0_20_P_AAE10)                                        0.016                                                             \n",
       "\n",
       "  R2m                                                   0.218          0.198         0.220        0.014           0.074          0.063           0.073        0.022\n",
       "\n",
       "  R2c                                                   0.358          0.474         0.365        0.360           0.569          0.537           0.577        0.439\n",
       "  -----------------------------------------------------------------------------------------------------------------------------------------------------------------\n",
       "\n",
       "  : Coefficient Table for Ynorm and Yrel. Significant codes: 0 '\\*\\*\\*'\n",
       "  0.001 '\\*\\*' 0.01 '\\*' 0.05\n"
      ]
     }
    }
   ],
   "source": [
    "lmer_models <- list(\n",
    "  PS = fit.soil.PS,\n",
    "  k = fit.soil.k,\n",
    "  'log(k*PS)' = fit.soil.kPS,\n",
    "  'k*log(PS)' = fit.soil.kPS2,\n",
    "  CO2 = fit.soil.CO2,\n",
    "  AAE10 = fit.soil.AAE10\n",
    ")\n",
    "\n",
    "\n",
    "\n",
    "coef_table_soil <- create_coef_table(lmer_models)\n",
    "kable(coef_table_soil,\n",
    "row.names = FALSE,\n",
    "align = c(\"l\", rep(\"r\", ncol(coef_table_soil) - 1)),\n",
    "escape = FALSE,\n",
    "caption = \"Coefficient Table for Soil covariates. \n",
    "Significant codes:  0 '\\\\*\\\\*\\\\*' 0.001 '\\\\*\\\\*' 0.01 '\\\\*' 0.05\")"
   ],
   "id": "530d6cc9-a922-490e-9d73-41f177020fb3"
  }
 ],
 "nbformat": 4,
 "nbformat_minor": 5,
 "metadata": {}
}
