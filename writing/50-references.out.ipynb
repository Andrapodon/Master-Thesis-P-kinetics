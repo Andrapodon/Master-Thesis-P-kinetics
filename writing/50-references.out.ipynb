{
 "cells": [
  {
   "cell_type": "markdown",
   "metadata": {},
   "source": [
    "# \n",
    "\n",
    "# References"
   ],
   "id": "fbbb4496-b3e0-4eb7-8192-e864d3b1ff53"
  }
 ],
 "nbformat": 4,
 "nbformat_minor": 5,
 "metadata": {}
}
