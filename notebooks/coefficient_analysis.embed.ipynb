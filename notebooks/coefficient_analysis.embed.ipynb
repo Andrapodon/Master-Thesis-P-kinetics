{
 "cells": [
  {
   "cell_type": "markdown",
   "metadata": {},
   "source": [
    "# Kinetic Model Coefficient Analysis\n",
    "\n",
    "Marc Pérez  \n",
    "May 22, 2025"
   ],
   "id": "e90c002d-639e-4edf-89b9-c5545235afb4"
  },
  {
   "cell_type": "code",
   "execution_count": null,
   "metadata": {},
   "outputs": [],
   "source": [
    "#| include: false\n",
    "#| message: false\n",
    "#| warning: false\n",
    "\n",
    "suppressPackageStartupMessages({\n",
    "  library(multcomp)\n",
    "  library(car)\n",
    "  library(tidyr)\n",
    "  library(lme4)\n",
    "  library(ggplot2)\n",
    "  library(ggtext)\n",
    "  library(ggpmisc)\n",
    "  library(nlme)\n",
    "  library(latex2exp)\n",
    "  library(kableExtra)\n",
    "  library(broom)\n",
    "  library(dplyr)\n",
    "  library(MuMIn)\n",
    "})\n",
    "\n",
    "options(warn = -1)\n",
    "RES <- readRDS(\"~/Documents/Master Thesis/Master-Thesis-P-kinetics/data/RES.rds\")\n",
    "D <- RES$D2\n",
    "d <- RES$data"
   ],
   "id": "e3e4ad08-d621-4339-b59f-d7bc5bb79bd4"
  },
  {
   "cell_type": "markdown",
   "metadata": {},
   "source": [
    "Model Agroscope $$Y_{rel}\\sim A*(1-e^{rate*P_{CO_2}+Env})$$\n",
    "\n",
    "Wir ersetzen nur rate mit unserer Schätzung k: $$Y_{rel}\\sim A*(1-e^{k*P_{CO_2}+Env})$$\n",
    "\n",
    "Sind unsere Modelparameter gute Prediktoren?? $$Y_{rel}\\sim A*(1-e^{k*PS+Env} )$$\n",
    "\n",
    "Es gibt noch die Kovariaten Niederschlag pro Jahr, Jahresdurchschnittstemperatur und Temperatur in Jugendphase"
   ],
   "id": "0fbdea2d-7bf7-4560-a263-121ca0c6bf32"
  },
  {
   "cell_type": "code",
   "execution_count": null,
   "metadata": {},
   "outputs": [],
   "source": [
    "#| eval: false\n",
    "#| include: false\n",
    "\n",
    "library(GGally)\n",
    "\n",
    "ggpairs(D, \n",
    "  aes(col=Site, shape = Treatment,alpha = 0.6), \n",
    "  columns = c(\"soil_0_20_P_AAE10\", \"soil_0_20_P_CO2\", \"PS\", \"k\", \"kPS\"),\n",
    "  lower = list(continuous = wrap(\"points\", size = 1.3)),\n",
    "  upper = list(continuous = \"blank\", combo = \"blank\", discrete = \"blank\"))  # Adjust size here\n",
    "  \n",
    "\n",
    "\n",
    "\n",
    "\n",
    "p6 <- ggplot(D,aes(y=soil_0_20_P_AAE10, x=soil_0_20_P_CO2, col=Site, size = Treatment)) +\n",
    "  geom_point(shape = 7) + \n",
    "  scale_x_log10() + scale_y_log10() +\n",
    "  labs(x=TeX(\"$P_{H_2O10}(mg/kg Soil)$\"),\n",
    "         y=TeX(\"$P_{AAEDTA}(mg/kg Soil)$\")); p6\n",
    "  \n",
    "p7 <- ggplot(D,aes(y=PS, x=soil_0_20_P_CO2, col=Site, size = Treatment)) +\n",
    "  geom_point(shape = 7) +\n",
    "  scale_x_log10() + scale_y_log10() +\n",
    "  labs(x=TeX(\"$P_{CO_2}(mg/kg Soil)$\"),\n",
    "          y=TeX(\"$PS(mg/kg Soil)$\")); p7\n",
    "\n",
    "p8 <- ggplot(D,aes(y=k, x=soil_0_20_P_CO2, col=Site, size = Treatment)) +\n",
    "  geom_point(shape = 7) +\n",
    "  scale_x_log10() +\n",
    "  labs(x=TeX(\"$P_{CO_2}(mg/kg Soil)$\"),\n",
    "         y=TeX(\"$k(1/s)$\")); p8\n",
    "\n",
    "p9 <- ggplot(D,aes(y=k*PS, x=soil_0_20_P_CO2, col=Site, size = Treatment)) +\n",
    "  geom_point(shape = 7) +\n",
    "  scale_x_log10() + scale_y_log10() +\n",
    "  labs(x=TeX(\"$P_{CO_2}(mg/kg Soil)$\"),\n",
    "         y=TeX(\"$v=k*PS(mg/s*kg Soil)$\"));p9\n",
    "\n",
    "\n",
    "p11 <- ggplot(D,aes(y=PS, x=soil_0_20_P_AAE10, col=Site, size = Treatment)) +\n",
    "  scale_x_log10() + scale_y_log10() +\n",
    "  geom_point(shape = 7) +\n",
    "  labs(x=TeX(\"$P_{AAEDTA}(mg/kg Soil)$\"),\n",
    "         y=TeX(\"$PS(mg/kg Soil)$\")); p11\n",
    "\n",
    "p12 <- ggplot(D,aes(y=k, x=soil_0_20_P_AAE10, col=Site, size = Treatment)) +\n",
    "  geom_point(shape = 7) +\n",
    "   scale_x_log10() + scale_y_log10() +\n",
    "  labs(x=TeX(\"$P_{AAEDTA}(mg/kg Soil)$\"),\n",
    "         y=TeX(\"$k(1/s)$\"))\n",
    "\n",
    "p12\n",
    "\n",
    "p13 <- ggplot(D,aes(y=k*PS, x=soil_0_20_P_AAE10, col=Site, size = Treatment)) +\n",
    "  scale_x_log10() + scale_y_log10() +\n",
    "  geom_point(shape = 7) +\n",
    "  labs(x=TeX(\"$P_{AAEDTA}(mg/kg Soil)$\"),\n",
    "         y=TeX(\"$log(v)=log(k*PS)(mg/s*kg Soil)$\"))\n",
    "\n",
    "p13"
   ],
   "id": "118edd13-dec6-4a24-851f-bbf685bf082d"
  },
  {
   "cell_type": "markdown",
   "metadata": {},
   "source": [
    "Nun noch die Linearen Regressionen, die ausstehend sind:\n",
    "\n",
    "`(1|year) + (1|Site)  + (1|Site:block) + (Treatment|Site)`\n",
    "\n",
    "Random intercept per year and site, block nested in site. and Treatment nested in site (could also be modelled as a random slope to allow for correlations)\n",
    "\n",
    "wir sind abe nicht an einem Treatment effekt interesseiert. drum verwerfen wir Treatment als Random UND Fixed effekt.\n",
    "\n",
    "1.  Vergleiche PS, k und kPS mit"
   ],
   "id": "428ef321-70d9-4dfe-b192-201f8e42a79c"
  },
  {
   "cell_type": "code",
   "execution_count": null,
   "metadata": {},
   "outputs": [
    {
     "output_type": "stream",
     "name": "stderr",
     "text": [
      "\n",
      "Attaching package: 'lmerTest'"
     ]
    },
    {
     "output_type": "stream",
     "name": "stderr",
     "text": [
      "The following object is masked from 'package:lme4':\n",
      "\n",
      "    lmer"
     ]
    },
    {
     "output_type": "stream",
     "name": "stderr",
     "text": [
      "The following object is masked from 'package:stats':\n",
      "\n",
      "    step"
     ]
    },
    {
     "output_type": "stream",
     "name": "stderr",
     "text": [
      "boundary (singular) fit: see help('isSingular')"
     ]
    },
    {
     "output_type": "stream",
     "name": "stderr",
     "text": [
      "boundary (singular) fit: see help('isSingular')"
     ]
    },
    {
     "output_type": "stream",
     "name": "stderr",
     "text": [
      "boundary (singular) fit: see help('isSingular')"
     ]
    },
    {
     "output_type": "stream",
     "name": "stderr",
     "text": [
      "boundary (singular) fit: see help('isSingular')"
     ]
    },
    {
     "output_type": "stream",
     "name": "stderr",
     "text": [
      "boundary (singular) fit: see help('isSingular')"
     ]
    },
    {
     "output_type": "stream",
     "name": "stdout",
     "text": [
      "            R2m       R2c\n",
      "[1,] 0.06987647 0.9104987"
     ]
    },
    {
     "output_type": "stream",
     "name": "stdout",
     "text": [
      "           R2m       R2c\n",
      "[1,] 0.3680394 0.8251728"
     ]
    },
    {
     "output_type": "stream",
     "name": "stderr",
     "text": [
      "boundary (singular) fit: see help('isSingular')"
     ]
    },
    {
     "output_type": "stream",
     "name": "stderr",
     "text": [
      "boundary (singular) fit: see help('isSingular')"
     ]
    },
    {
     "output_type": "stream",
     "name": "stdout",
     "text": [
      "            R2m       R2c\n",
      "[1,] 0.01132987 0.3222732"
     ]
    },
    {
     "output_type": "stream",
     "name": "stderr",
     "text": [
      "boundary (singular) fit: see help('isSingular')"
     ]
    },
    {
     "output_type": "stream",
     "name": "stdout",
     "text": [
      "            R2m       R2c\n",
      "[1,] 0.01389348 0.3206529"
     ]
    },
    {
     "output_type": "stream",
     "name": "stdout",
     "text": [
      "            R2m       R2c\n",
      "[1,] 0.03949443 0.2327285"
     ]
    },
    {
     "output_type": "stream",
     "name": "stderr",
     "text": [
      "boundary (singular) fit: see help('isSingular')"
     ]
    },
    {
     "output_type": "stream",
     "name": "stdout",
     "text": [
      "            R2m      R2c\n",
      "[1,] 0.02354704 0.220675"
     ]
    },
    {
     "output_type": "stream",
     "name": "stderr",
     "text": [
      "boundary (singular) fit: see help('isSingular')"
     ]
    },
    {
     "output_type": "stream",
     "name": "stdout",
     "text": [
      "            R2m       R2c\n",
      "[1,] 0.02559532 0.4046309"
     ]
    },
    {
     "output_type": "stream",
     "name": "stdout",
     "text": [
      "Linear mixed model fit by REML. t-tests use Kenward-Roger's method [\n",
      "lmerModLmerTest]\n",
      "Formula: Ymain_norm ~ k * log(PS) + (1 | year) + (1 | Site) + (1 | Site:block)\n",
      "   Data: D\n",
      " Subset: Treatment == \"P0\"\n",
      "\n",
      "REML criterion at convergence: 237\n",
      "\n",
      "Scaled residuals: \n",
      "    Min      1Q  Median      3Q     Max \n",
      "-2.2274 -0.2703  0.0472  0.3082  4.2211 \n",
      "\n",
      "Random effects:\n",
      " Groups     Name        Variance Std.Dev.\n",
      " Site:block (Intercept) 0.00000  0.0000  \n",
      " year       (Intercept) 0.09912  0.3148  \n",
      " Site       (Intercept) 0.08030  0.2834  \n",
      " Residual               0.28181  0.5309  \n",
      "Number of obs: 140, groups:  Site:block, 20; year, 7; Site, 5\n",
      "\n",
      "Fixed effects:\n",
      "            Estimate Std. Error      df t value Pr(>|t|)\n",
      "(Intercept)   2.1092     1.8704 13.9709   1.128    0.278\n",
      "k            -3.5406    10.2424 13.6015  -0.346    0.735\n",
      "log(PS)       0.2281     0.5500 13.3627   0.415    0.685\n",
      "k:log(PS)    -0.5902     3.0029 13.2694  -0.197    0.847\n",
      "\n",
      "Correlation of Fixed Effects:\n",
      "          (Intr) k      lg(PS)\n",
      "k         -0.947              \n",
      "log(PS)    0.986 -0.943       \n",
      "k:log(PS) -0.936  0.992 -0.948\n",
      "optimizer (nloptwrap) convergence code: 0 (OK)\n",
      "boundary (singular) fit: see help('isSingular')"
     ]
    },
    {
     "output_type": "stream",
     "name": "stdout",
     "text": [
      "            R2m       R2c\n",
      "[1,] 0.03216247 0.2739785"
     ]
    },
    {
     "output_type": "stream",
     "name": "stdout",
     "text": [
      "          R2m       R2c\n",
      "[1,] 0.226324 0.4317041"
     ]
    },
    {
     "output_type": "stream",
     "name": "stdout",
     "text": [
      "          R2m       R2c\n",
      "[1,] 0.202547 0.4445619"
     ]
    },
    {
     "output_type": "stream",
     "name": "stdout",
     "text": [
      "           R2m       R2c\n",
      "[1,] 0.2239347 0.4394869"
     ]
    },
    {
     "output_type": "stream",
     "name": "stderr",
     "text": [
      "boundary (singular) fit: see help('isSingular')"
     ]
    },
    {
     "output_type": "stream",
     "name": "stdout",
     "text": [
      "            R2m       R2c\n",
      "[1,] 0.01389348 0.3206529"
     ]
    },
    {
     "output_type": "stream",
     "name": "stderr",
     "text": [
      "boundary (singular) fit: see help('isSingular')"
     ]
    },
    {
     "output_type": "stream",
     "name": "stderr",
     "text": [
      "boundary (singular) fit: see help('isSingular')"
     ]
    },
    {
     "output_type": "stream",
     "name": "stderr",
     "text": [
      "there are higher-order terms (interactions) in this model\n",
      "consider setting type = 'predictor'; see ?vif"
     ]
    },
    {
     "output_type": "stream",
     "name": "stdout",
     "text": [
      "               GVIF Df GVIF^(1/(2*Df))\n",
      "k         12.721081  1        3.566662\n",
      "log(PS)   12.182601  1        3.490358\n",
      "crop       1.044188  5        1.004333\n",
      "k:log(PS) 29.426189  1        5.424591"
     ]
    },
    {
     "output_type": "stream",
     "name": "stderr",
     "text": [
      "there are higher-order terms (interactions) in this model\n",
      "consider setting type = 'predictor'; see ?vif"
     ]
    },
    {
     "output_type": "stream",
     "name": "stdout",
     "text": [
      "                            GVIF Df GVIF^(1/(2*Df))\n",
      "scale(k)                1.120802  1        1.058679\n",
      "scale(log(PS))          1.071093  1        1.034936\n",
      "crop                    1.044188  5        1.004333\n",
      "scale(k):scale(log(PS)) 1.015027  1        1.007486"
     ]
    },
    {
     "output_type": "stream",
     "name": "stdout",
     "text": [
      "            GVIF Df GVIF^(1/(2*Df))\n",
      "k       1.112232  1        1.054624\n",
      "log(PS) 1.068219  1        1.033547\n",
      "crop    1.043502  5        1.004267"
     ]
    },
    {
     "output_type": "stream",
     "name": "stdout",
     "text": [
      "                GVIF Df GVIF^(1/(2*Df))\n",
      "I(k * (PS)) 4.640782  1        2.154247\n",
      "k           2.041541  1        1.428825\n",
      "log(PS)     4.690858  1        2.165839\n",
      "crop        1.045520  5        1.004461"
     ]
    },
    {
     "output_type": "display_data",
     "metadata": {},
     "data": {
      "image/png": "[encoded data removed]"
     }
    },
    {
     "output_type": "display_data",
     "metadata": {},
     "data": {
      "image/png": "[encoded data removed]"
     }
    },
    {
     "output_type": "stream",
     "name": "stdout",
     "text": [
      "            R2m       R2c\n",
      "[1,] 0.01389348 0.3206529"
     ]
    },
    {
     "output_type": "stream",
     "name": "stdout",
     "text": [
      "Type III Analysis of Variance Table with Satterthwaite's method\n",
      "                   Sum Sq  Mean Sq NumDF  DenDF F value  Pr(>F)  \n",
      "soil_0_20_clay   0.002083 0.002083     1 38.033  0.0569 0.81272  \n",
      "soil_0_20_pH_H2O 0.000134 0.000134     1 37.384  0.0037 0.95203  \n",
      "soil_0_20_Corg   0.161222 0.161222     1 31.905  4.4045 0.04385 *\n",
      "soil_0_20_silt   0.004846 0.004846     1 38.673  0.1324 0.71793  \n",
      "Feox             0.001149 0.001149     1  0.347  0.0314 0.91632  \n",
      "Alox             0.012358 0.012358     1  0.257  0.3376 0.79220  \n",
      "---\n",
      "Signif. codes:  0 '***' 0.001 '**' 0.01 '*' 0.05 '.' 0.1 ' ' 1"
     ]
    },
    {
     "output_type": "stream",
     "name": "stdout",
     "text": [
      "\n",
      "     Simultaneous Tests for General Linear Hypotheses\n",
      "\n",
      "Fit: lmer(formula = log(PS) ~ soil_0_20_clay + soil_0_20_pH_H2O + \n",
      "    soil_0_20_Corg + soil_0_20_silt + Feox + Alox + (1 | year) + \n",
      "    (1 | Site) + (1 | Site:block) + (1 | Site:Treatment), data = D)\n",
      "\n",
      "Linear Hypotheses:\n",
      "                       Estimate Std. Error z value Pr(>|z|)\n",
      "(Intercept) == 0      -4.315984   2.026178  -2.130    0.177\n",
      "soil_0_20_clay == 0   -0.007322   0.030690  -0.239    1.000\n",
      "soil_0_20_pH_H2O == 0 -0.007820   0.129130  -0.061    1.000\n",
      "soil_0_20_Corg == 0    0.635270   0.302698   2.099    0.189\n",
      "soil_0_20_silt == 0   -0.010244   0.028153  -0.364    0.999\n",
      "Feox == 0             -0.052865   0.298418  -0.177    1.000\n",
      "Alox == 0              0.603465   1.038573   0.581    0.989\n",
      "(Adjusted p values reported -- single-step method)"
     ]
    },
    {
     "output_type": "stream",
     "name": "stdout",
     "text": [
      "Type III Analysis of Variance Table with Satterthwaite's method\n",
      "                    Sum Sq   Mean Sq NumDF  DenDF F value   Pr(>F)   \n",
      "soil_0_20_clay   0.0118462 0.0118462     1 39.973 10.7210 0.002191 **\n",
      "soil_0_20_pH_H2O 0.0011812 0.0011812     1 38.291  1.0690 0.307665   \n",
      "soil_0_20_Corg   0.0090425 0.0090425     1 35.487  8.1836 0.007040 **\n",
      "soil_0_20_silt   0.0012705 0.0012705     1 10.804  1.1498 0.306956   \n",
      "Feox             0.0000004 0.0000004     1  0.968  0.0003 0.988186   \n",
      "Alox             0.0004765 0.0004765     1  1.117  0.4312 0.620552   \n",
      "---\n",
      "Signif. codes:  0 '***' 0.001 '**' 0.01 '*' 0.05 '.' 0.1 ' ' 1"
     ]
    },
    {
     "output_type": "stream",
     "name": "stdout",
     "text": [
      "\n",
      "     Simultaneous Tests for General Linear Hypotheses\n",
      "\n",
      "Fit: lmer(formula = k ~ soil_0_20_clay + soil_0_20_pH_H2O + soil_0_20_Corg + \n",
      "    soil_0_20_silt + Feox + Alox + (1 | year) + (1 | Site) + \n",
      "    (1 | Site:block) + (1 | Site:Treatment), data = D)\n",
      "\n",
      "Linear Hypotheses:\n",
      "                       Estimate Std. Error z value Pr(>|z|)   \n",
      "(Intercept) == 0       0.608404   0.351212   1.732  0.37906   \n",
      "soil_0_20_clay == 0   -0.016659   0.005088  -3.274  0.00689 **\n",
      "soil_0_20_pH_H2O == 0 -0.022256   0.021526  -1.034  0.84731   \n",
      "soil_0_20_Corg == 0    0.137353   0.048014   2.861  0.02627 * \n",
      "soil_0_20_silt == 0    0.004094   0.003818   1.072  0.82616   \n",
      "Feox == 0              0.001024   0.054815   0.019  1.00000   \n",
      "Alox == 0             -0.128860   0.196235  -0.657  0.97805   \n",
      "---\n",
      "Signif. codes:  0 '***' 0.001 '**' 0.01 '*' 0.05 '.' 0.1 ' ' 1\n",
      "(Adjusted p values reported -- single-step method)"
     ]
    },
    {
     "output_type": "stream",
     "name": "stdout",
     "text": [
      "Type III Analysis of Variance Table with Satterthwaite's method\n",
      "                  Sum Sq Mean Sq NumDF  DenDF F value   Pr(>F)   \n",
      "soil_0_20_clay   0.27383 0.27383     1 37.930  3.2642 0.078745 . \n",
      "soil_0_20_pH_H2O 0.00989 0.00989     1 37.703  0.1179 0.733211   \n",
      "soil_0_20_Corg   0.63137 0.63137     1 32.625  7.5263 0.009799 **\n",
      "soil_0_20_silt   0.00591 0.00591     1 39.206  0.0705 0.791988   \n",
      "Feox             0.04311 0.04311     1  0.225  0.5139 0.775407   \n",
      "Alox             0.00881 0.00881     1  0.130  0.1050 0.904677   \n",
      "---\n",
      "Signif. codes:  0 '***' 0.001 '**' 0.01 '*' 0.05 '.' 0.1 ' ' 1"
     ]
    },
    {
     "output_type": "stream",
     "name": "stdout",
     "text": [
      "\n",
      "     Simultaneous Tests for General Linear Hypotheses\n",
      "\n",
      "Fit: lmer(formula = I(log(k * PS)) ~ soil_0_20_clay + soil_0_20_pH_H2O + \n",
      "    soil_0_20_Corg + soil_0_20_silt + Feox + Alox + (1 | year) + \n",
      "    (1 | Site) + (1 | Site:block) + (1 | Site:Treatment), data = D)\n",
      "\n",
      "Linear Hypotheses:\n",
      "                      Estimate Std. Error z value Pr(>|z|)  \n",
      "(Intercept) == 0      -5.22214    2.67612  -1.951   0.2520  \n",
      "soil_0_20_clay == 0   -0.08506    0.04708  -1.807   0.3309  \n",
      "soil_0_20_pH_H2O == 0 -0.06836    0.19908  -0.343   0.9993  \n",
      "soil_0_20_Corg == 0    1.29047    0.47039   2.743   0.0366 *\n",
      "soil_0_20_silt == 0   -0.01141    0.04296  -0.266   0.9998  \n",
      "Feox == 0              0.24813    0.34612   0.717   0.9669  \n",
      "Alox == 0              0.36766    1.13436   0.324   0.9995  \n",
      "---\n",
      "Signif. codes:  0 '***' 0.001 '**' 0.01 '*' 0.05 '.' 0.1 ' ' 1\n",
      "(Adjusted p values reported -- single-step method)"
     ]
    },
    {
     "output_type": "stream",
     "name": "stdout",
     "text": [
      "Type III Analysis of Variance Table with Satterthwaite's method\n",
      "          Sum Sq Mean Sq NumDF  DenDF F value  Pr(>F)  \n",
      "k         7760.6  7760.6     1 301.92  5.7850 0.01676 *\n",
      "log(PS)   5373.3  5373.3     1 302.30  4.0054 0.04625 *\n",
      "k:log(PS) 8701.9  8701.9     1 302.51  6.4866 0.01136 *\n",
      "---\n",
      "Signif. codes:  0 '***' 0.001 '**' 0.01 '*' 0.05 '.' 0.1 ' ' 1"
     ]
    },
    {
     "output_type": "stream",
     "name": "stdout",
     "text": [
      "Type III Analysis of Variance Table with Satterthwaite's method\n",
      "            Sum Sq  Mean Sq NumDF  DenDF F value Pr(>F)\n",
      "k         0.151218 0.151218     1 269.22  0.6379 0.4252\n",
      "log(PS)   0.019202 0.019202     1 268.74  0.0810 0.7762\n",
      "k:log(PS) 0.201373 0.201373     1 268.71  0.8494 0.3575"
     ]
    },
    {
     "output_type": "stream",
     "name": "stdout",
     "text": [
      "Type III Analysis of Variance Table with Satterthwaite's method\n",
      "          Sum Sq Mean Sq NumDF  DenDF F value Pr(>F)\n",
      "k         45.672  45.672     1 294.59  0.5847 0.4451\n",
      "log(PS)   84.870  84.870     1 295.00  1.0866 0.2981\n",
      "k:log(PS) 50.311  50.311     1 295.03  0.6441 0.4229"
     ]
    },
    {
     "output_type": "stream",
     "name": "stdout",
     "text": [
      "Type III Analysis of Variance Table with Satterthwaite's method\n",
      "                   Sum Sq  Mean Sq NumDF  DenDF F value Pr(>F)\n",
      "soil_0_20_clay   0.017260 0.017260     1 38.410  0.1191 0.7319\n",
      "soil_0_20_pH_H2O 0.080631 0.080631     1 38.254  0.5562 0.4604\n",
      "soil_0_20_Corg   0.029198 0.029198     1 38.466  0.2014 0.6561\n",
      "soil_0_20_silt   0.005041 0.005041     1 40.886  0.0348 0.8530\n",
      "Feox             0.102556 0.102556     1 14.728  0.7074 0.4138\n",
      "Alox             0.001448 0.001448     1  4.877  0.0100 0.9244"
     ]
    },
    {
     "output_type": "stream",
     "name": "stdout",
     "text": [
      "Type III Analysis of Variance Table with Satterthwaite's method\n",
      "                   Sum Sq  Mean Sq NumDF  DenDF F value Pr(>F)\n",
      "soil_0_20_clay   0.000000 0.000000     1 34.138  0.0000 0.9993\n",
      "soil_0_20_pH_H2O 0.022655 0.022655     1 30.975  0.3822 0.5409\n",
      "soil_0_20_Corg   0.091344 0.091344     1 27.873  1.5412 0.2248\n",
      "soil_0_20_silt   0.033276 0.033276     1 34.322  0.5614 0.4588\n",
      "Feox             0.023984 0.023984     1  7.835  0.4047 0.5428\n",
      "Alox             0.104053 0.104053     1  3.886  1.7556 0.2577"
     ]
    },
    {
     "output_type": "stream",
     "name": "stdout",
     "text": [
      "Type III Analysis of Variance Table with Satterthwaite's method\n",
      "          Sum Sq Mean Sq NumDF  DenDF F value    Pr(>F)    \n",
      "k          124.7   124.7     1 275.62  0.6004    0.4391    \n",
      "log(PS)   4906.5  4906.5     1 285.15 23.6264 1.935e-06 ***\n",
      "k:log(PS)  120.8   120.8     1 280.10  0.5819    0.4462    \n",
      "---\n",
      "Signif. codes:  0 '***' 0.001 '**' 0.01 '*' 0.05 '.' 0.1 ' ' 1"
     ]
    },
    {
     "output_type": "stream",
     "name": "stdout",
     "text": [
      "Linear mixed model fit by REML. t-tests use Satterthwaite's method [\n",
      "lmerModLmerTest]\n",
      "Formula: annual_P_balance ~ k * log(PS) + (1 | year) + (1 | Site) + (1 |  \n",
      "    Site:block)\n",
      "   Data: D\n",
      "\n",
      "REML criterion at convergence: 2719.8\n",
      "\n",
      "Scaled residuals: \n",
      "    Min      1Q  Median      3Q     Max \n",
      "-4.3960 -0.5775  0.0036  0.5915  2.8874 \n",
      "\n",
      "Random effects:\n",
      " Groups     Name        Variance Std.Dev.\n",
      " Site:block (Intercept)  27.20    5.216  \n",
      " year       (Intercept)  54.22    7.363  \n",
      " Site       (Intercept) 127.50   11.292  \n",
      " Residual               207.67   14.411  \n",
      "Number of obs: 330, groups:  Site:block, 20; year, 7; Site, 5\n",
      "\n",
      "Fixed effects:\n",
      "            Estimate Std. Error      df t value Pr(>|t|)    \n",
      "(Intercept)   59.223     11.538  62.390   5.133 3.02e-06 ***\n",
      "k             42.436     54.765 275.615   0.775    0.439    \n",
      "log(PS)       21.577      4.439 285.149   4.861 1.93e-06 ***\n",
      "k:log(PS)     17.933     23.508 280.101   0.763    0.446    \n",
      "---\n",
      "Signif. codes:  0 '***' 0.001 '**' 0.01 '*' 0.05 '.' 0.1 ' ' 1\n",
      "\n",
      "Correlation of Fixed Effects:\n",
      "          (Intr) k      lg(PS)\n",
      "k         -0.827              \n",
      "log(PS)    0.807 -0.897       \n",
      "k:log(PS) -0.792  0.941 -0.970"
     ]
    },
    {
     "output_type": "stream",
     "name": "stdout",
     "text": [
      "           R2m       R2c\n",
      "[1,] 0.4896394 0.7455866"
     ]
    },
    {
     "output_type": "stream",
     "name": "stdout",
     "text": [
      "            R2m       R2c\n",
      "[1,] 0.04012948 0.7758557"
     ]
    },
    {
     "output_type": "stream",
     "name": "stdout",
     "text": [
      "            R2m       R2c\n",
      "[1,] 0.01503741 0.5119295"
     ]
    },
    {
     "output_type": "stream",
     "name": "stdout",
     "text": [
      "            R2m       R2c\n",
      "[1,] 0.01389348 0.3206529"
     ]
    }
   ],
   "source": [
    "#|code-fold: true\n",
    "#|tidy: true\n",
    "\n",
    "\n",
    "# Wovon hängen Modelparameter ab?\n",
    "\n",
    "library(lmerTest)"
   ],
   "id": "ed5b389d-4cb5-4e19-b534-8cf34719856c"
  },
  {
   "cell_type": "markdown",
   "metadata": {},
   "source": [
    "Since we now model two measurement methods, we do not expect correlations by Site/year/etc"
   ],
   "id": "fb92bac1-6200-4d8f-9ac6-76927ff1030f"
  },
  {
   "cell_type": "code",
   "execution_count": null,
   "metadata": {},
   "outputs": [
    {
     "output_type": "stream",
     "name": "stderr",
     "text": [
      "boundary (singular) fit: see help('isSingular')"
     ]
    },
    {
     "output_type": "stream",
     "name": "stderr",
     "text": [
      "boundary (singular) fit: see help('isSingular')"
     ]
    },
    {
     "output_type": "stream",
     "name": "stderr",
     "text": [
      "boundary (singular) fit: see help('isSingular')"
     ]
    },
    {
     "output_type": "stream",
     "name": "stderr",
     "text": [
      "boundary (singular) fit: see help('isSingular')"
     ]
    },
    {
     "output_type": "stream",
     "name": "stderr",
     "text": [
      "boundary (singular) fit: see help('isSingular')"
     ]
    },
    {
     "output_type": "stream",
     "name": "stderr",
     "text": [
      "boundary (singular) fit: see help('isSingular')"
     ]
    },
    {
     "output_type": "stream",
     "name": "stdout",
     "text": [
      "\n",
      "     Simultaneous Tests for General Linear Hypotheses\n",
      "\n",
      "Fit: lm(formula = log(PS) ~ log(soil_0_20_P_CO2) + log(soil_0_20_P_AAE10), \n",
      "    data = D)\n",
      "\n",
      "Linear Hypotheses:\n",
      "                            Estimate Std. Error t value Pr(>|t|)    \n",
      "(Intercept) == 0            -1.62462    0.23590  -6.887   <1e-05 ***\n",
      "log(soil_0_20_P_CO2) == 0    1.03597    0.06088  17.017   <1e-05 ***\n",
      "log(soil_0_20_P_AAE10) == 0 -0.01187    0.06067  -0.196    0.966    \n",
      "---\n",
      "Signif. codes:  0 '***' 0.001 '**' 0.01 '*' 0.05 '.' 0.1 ' ' 1\n",
      "(Adjusted p values reported -- single-step method)"
     ]
    },
    {
     "output_type": "stream",
     "name": "stdout",
     "text": [
      "\n",
      "     Simultaneous Tests for General Linear Hypotheses\n",
      "\n",
      "Fit: lm(formula = k ~ log(soil_0_20_P_CO2) + log(soil_0_20_P_AAE10), \n",
      "    data = D)\n",
      "\n",
      "Linear Hypotheses:\n",
      "                             Estimate Std. Error t value Pr(>|t|)    \n",
      "(Intercept) == 0             0.101007   0.029593   3.413  0.00120 ** \n",
      "log(soil_0_20_P_CO2) == 0   -0.027290   0.007637  -3.573  < 0.001 ***\n",
      "log(soil_0_20_P_AAE10) == 0  0.021789   0.007612   2.863  0.00765 ** \n",
      "---\n",
      "Signif. codes:  0 '***' 0.001 '**' 0.01 '*' 0.05 '.' 0.1 ' ' 1\n",
      "(Adjusted p values reported -- single-step method)"
     ]
    },
    {
     "output_type": "stream",
     "name": "stdout",
     "text": [
      "\n",
      "     Simultaneous Tests for General Linear Hypotheses\n",
      "\n",
      "Fit: lm(formula = I(log(k * PS)) ~ log(soil_0_20_P_CO2) + log(soil_0_20_P_AAE10), \n",
      "    data = D)\n",
      "\n",
      "Linear Hypotheses:\n",
      "                            Estimate Std. Error t value Pr(>|t|)    \n",
      "(Intercept) == 0            -3.67498    0.24189 -15.193   <1e-04 ***\n",
      "log(soil_0_20_P_CO2) == 0    0.91106    0.06243  14.594   <1e-04 ***\n",
      "log(soil_0_20_P_AAE10) == 0  0.06769    0.06222   1.088    0.391    \n",
      "---\n",
      "Signif. codes:  0 '***' 0.001 '**' 0.01 '*' 0.05 '.' 0.1 ' ' 1\n",
      "(Adjusted p values reported -- single-step method)"
     ]
    },
    {
     "output_type": "stream",
     "name": "stdout",
     "text": [
      "Linear mixed model fit by REML. t-tests use Satterthwaite's method [\n",
      "lmerModLmerTest]\n",
      "Formula: Ymain_rel ~ log(soil_0_20_P_CO2) * log(soil_0_20_P_AAE10) + (1 |  \n",
      "    year) + (1 | Site) + (1 | Site:block) + (1 | Site:Treatment)\n",
      "   Data: D\n",
      "\n",
      "REML criterion at convergence: 1731.6\n",
      "\n",
      "Scaled residuals: \n",
      "    Min      1Q  Median      3Q     Max \n",
      "-3.0471 -0.6233 -0.0496  0.5860  3.1830 \n",
      "\n",
      "Random effects:\n",
      " Groups         Name        Variance Std.Dev.\n",
      " Site:block     (Intercept)   4.449   2.109  \n",
      " Site:Treatment (Intercept)  29.254   5.409  \n",
      " year           (Intercept) 169.205  13.008  \n",
      " Site           (Intercept)  15.292   3.911  \n",
      " Residual                   191.096  13.824  \n",
      "Number of obs: 212, groups:  \n",
      "Site:block, 16; Site:Treatment, 12; year, 5; Site, 4\n",
      "\n",
      "Fixed effects:\n",
      "                                            Estimate Std. Error      df t value\n",
      "(Intercept)                                   86.797     20.421  86.613   4.250\n",
      "log(soil_0_20_P_CO2)                          17.430     11.945 164.224   1.459\n",
      "log(soil_0_20_P_AAE10)                         4.593      5.056  95.253   0.909\n",
      "log(soil_0_20_P_CO2):log(soil_0_20_P_AAE10)   -4.372      3.066 148.783  -1.426\n",
      "                                            Pr(>|t|)    \n",
      "(Intercept)                                 5.36e-05 ***\n",
      "log(soil_0_20_P_CO2)                           0.146    \n",
      "log(soil_0_20_P_AAE10)                         0.366    \n",
      "log(soil_0_20_P_CO2):log(soil_0_20_P_AAE10)    0.156    \n",
      "---\n",
      "Signif. codes:  0 '***' 0.001 '**' 0.01 '*' 0.05 '.' 0.1 ' ' 1\n",
      "\n",
      "Correlation of Fixed Effects:\n",
      "                (Intr) lg(_0_20_P_CO2) l(_0_20_P_A\n",
      "lg(_0_20_P_CO2)  0.765                            \n",
      "l(_0_20_P_A     -0.946 -0.786                     \n",
      "l(_0_20_P_CO2): -0.605 -0.950           0.630     "
     ]
    },
    {
     "output_type": "stream",
     "name": "stdout",
     "text": [
      "Linear mixed model fit by REML. t-tests use Satterthwaite's method [\n",
      "lmerModLmerTest]\n",
      "Formula: annual_P_uptake ~ log(soil_0_20_P_CO2) * log(soil_0_20_P_AAE10) +  \n",
      "    (1 | year) + (1 | Site) + (1 | Site:block) + (1 | Site:Treatment)\n",
      "   Data: D\n",
      "\n",
      "REML criterion at convergence: 1834.1\n",
      "\n",
      "Scaled residuals: \n",
      "    Min      1Q  Median      3Q     Max \n",
      "-3.2817 -0.4518 -0.0801  0.4504  4.7520 \n",
      "\n",
      "Random effects:\n",
      " Groups         Name        Variance Std.Dev.\n",
      " Site:block     (Intercept)  0.00    0.000   \n",
      " Site:Treatment (Intercept)  0.00    0.000   \n",
      " year           (Intercept) 75.76    8.704   \n",
      " Site           (Intercept) 30.12    5.489   \n",
      " Residual                   64.95    8.059   \n",
      "Number of obs: 259, groups:  \n",
      "Site:block, 16; Site:Treatment, 12; year, 6; Site, 4\n",
      "\n",
      "Fixed effects:\n",
      "                                            Estimate Std. Error       df\n",
      "(Intercept)                                  30.6288    11.3421 133.4332\n",
      "log(soil_0_20_P_CO2)                          9.8213     5.8400 250.2829\n",
      "log(soil_0_20_P_AAE10)                       -0.8099     2.7078 240.1731\n",
      "log(soil_0_20_P_CO2):log(soil_0_20_P_AAE10)  -1.1650     1.4145 250.3524\n",
      "                                            t value Pr(>|t|)   \n",
      "(Intercept)                                   2.700  0.00782 **\n",
      "log(soil_0_20_P_CO2)                          1.682  0.09387 . \n",
      "log(soil_0_20_P_AAE10)                       -0.299  0.76511   \n",
      "log(soil_0_20_P_CO2):log(soil_0_20_P_AAE10)  -0.824  0.41095   \n",
      "---\n",
      "Signif. codes:  0 '***' 0.001 '**' 0.01 '*' 0.05 '.' 0.1 ' ' 1\n",
      "\n",
      "Correlation of Fixed Effects:\n",
      "                (Intr) lg(_0_20_P_CO2) l(_0_20_P_A\n",
      "lg(_0_20_P_CO2)  0.786                            \n",
      "l(_0_20_P_A     -0.916 -0.847                     \n",
      "l(_0_20_P_CO2): -0.624 -0.951           0.675     \n",
      "optimizer (nloptwrap) convergence code: 0 (OK)\n",
      "boundary (singular) fit: see help('isSingular')"
     ]
    },
    {
     "output_type": "stream",
     "name": "stdout",
     "text": [
      "Linear mixed model fit by REML. t-tests use Satterthwaite's method [\n",
      "lmerModLmerTest]\n",
      "Formula: annual_P_balance ~ log(soil_0_20_P_CO2) * log(soil_0_20_P_AAE10) +  \n",
      "    (1 | year) + (1 | Site) + (1 | Site:block) + (1 | Site:Treatment)\n",
      "   Data: D\n",
      "\n",
      "REML criterion at convergence: 2121.6\n",
      "\n",
      "Scaled residuals: \n",
      "    Min      1Q  Median      3Q     Max \n",
      "-4.3603 -0.5255  0.0342  0.5431  2.8598 \n",
      "\n",
      "Random effects:\n",
      " Groups         Name        Variance  Std.Dev. \n",
      " Site:block     (Intercept) 0.000e+00  0.000000\n",
      " Site:Treatment (Intercept) 5.170e+02 22.737367\n",
      " year           (Intercept) 6.267e+01  7.916138\n",
      " Site           (Intercept) 1.570e-06  0.001253\n",
      " Residual                   1.118e+02 10.571431\n",
      "Number of obs: 274, groups:  \n",
      "Site:block, 16; Site:Treatment, 12; year, 6; Site, 4\n",
      "\n",
      "Fixed effects:\n",
      "                                            Estimate Std. Error      df t value\n",
      "(Intercept)                                   -5.502     15.689 163.186  -0.351\n",
      "log(soil_0_20_P_CO2)                         -10.403      8.497 258.394  -1.224\n",
      "log(soil_0_20_P_AAE10)                         1.981      3.669 262.994   0.540\n",
      "log(soil_0_20_P_CO2):log(soil_0_20_P_AAE10)    1.417      2.231 258.328   0.635\n",
      "                                            Pr(>|t|)\n",
      "(Intercept)                                    0.726\n",
      "log(soil_0_20_P_CO2)                           0.222\n",
      "log(soil_0_20_P_AAE10)                         0.590\n",
      "log(soil_0_20_P_CO2):log(soil_0_20_P_AAE10)    0.526\n",
      "\n",
      "Correlation of Fixed Effects:\n",
      "                (Intr) lg(_0_20_P_CO2) l(_0_20_P_A\n",
      "lg(_0_20_P_CO2)  0.655                            \n",
      "l(_0_20_P_A     -0.879 -0.706                     \n",
      "l(_0_20_P_CO2): -0.491 -0.937           0.541     \n",
      "optimizer (nloptwrap) convergence code: 0 (OK)\n",
      "boundary (singular) fit: see help('isSingular')"
     ]
    },
    {
     "output_type": "stream",
     "name": "stdout",
     "text": [
      "            R2m       R2c\n",
      "[1,] 0.01324864 0.8405073"
     ]
    },
    {
     "output_type": "stream",
     "name": "stdout",
     "text": [
      "            R2m       R2c\n",
      "[1,] 0.07722235 0.6491677"
     ]
    },
    {
     "output_type": "stream",
     "name": "stdout",
     "text": [
      "            R2m       R2c\n",
      "[1,] 0.09927847 0.5794631"
     ]
    }
   ],
   "source": [
    "#|code-fold: true\n",
    "#|tidy: true\n",
    "# fit.PS       <- lm(PS            ~ soil_0_20_P_CO2 + soil_0_20_P_AAE10, D)\n",
    "fit.grud.PS       <- lm(log(PS)         ~ log(soil_0_20_P_CO2) + log(soil_0_20_P_AAE10), D)\n",
    "fit.grud.k        <- lm(k               ~ log(soil_0_20_P_CO2) + log(soil_0_20_P_AAE10), D)\n",
    "fit.grud.kPS      <- lm(I(log(k*PS))    ~ log(soil_0_20_P_CO2) + log(soil_0_20_P_AAE10), D)\n",
    "\n",
    "fit.grud.CO2.Yrel     <- lmer(Ymain_rel       ~ log(soil_0_20_P_CO2) + (1|year) + (1|Site)  + (1|Site:block) + (1|Site:Treatment), D)\n",
    "fit.grud.AAE10.Yrel     <- lmer(Ymain_rel       ~ log(soil_0_20_P_AAE10) + (1|year) + (1|Site)  + (1|Site:block) + (1|Site:Treatment), D)\n",
    "fit.grud.Yrel     <- lmer(Ymain_rel       ~ log(soil_0_20_P_CO2) * log(soil_0_20_P_AAE10) + (1|year) + (1|Site)  + (1|Site:block) + (1|Site:Treatment), D)\n",
    "\n",
    "\n",
    "# this is hopeless, since cannot log becaus of 0's\n",
    "fit.CO2.Pexport     <- lmer(annual_P_uptake     ~ log(soil_0_20_P_CO2) + (1|year) + (1|Site)  + (1|Site:block) + (1|Site:Treatment), D)"
   ],
   "id": "99ce546a-2da7-4290-8fca-50afaf797cc7"
  },
  {
   "cell_type": "code",
   "execution_count": null,
   "metadata": {},
   "outputs": [],
   "source": [
    "create_coef_table <- function(lmer_models, \n",
    "                              covariate_order = NULL, \n",
    "                              covariate_labels = NULL, # NEU: Benannter Vektor für Zeilennamen\n",
    "                              model_labels = NULL) {   # NEU: Benannter Vektor für Spaltennamen\n",
    "\n",
    "  # Extract coefficients and p-values (Ihre Originalfunktion, keine Änderung hier)\n",
    "  extract_coef_info <- function(model) {\n",
    "    # ... (keine Änderung, Ihr Code bleibt hier)\n",
    "    coef_matrix <- summary(model)|> coef()\n",
    "    estimates <- coef_matrix[, 1]\n",
    "    p_values <- coef_matrix[, ncol(coef_matrix)]\n",
    "    formatted_coef <- sapply(seq_along(estimates), function(i) {\n",
    "      est_str <- sprintf(\"%.3f\", estimates[i])\n",
    "      stars <- if (p_values[i] < 0.001) \"***\" else\n",
    "               if (p_values[i] < 0.01) \"** \" else\n",
    "               if (p_values[i] < 0.05) \"* \" else  \"\"\n",
    "      paste0(stars, est_str)\n",
    "    })\n",
    "    names(formatted_coef) <- rownames(coef_matrix)\n",
    "    return(formatted_coef)\n",
    "  }\n",
    "\n",
    "  # Extract R-squared values (Ihre Originalfunktion, keine Änderung hier)\n",
    "  extract_r_squared <- function(model) {\n",
    "    # ... (keine Änderung, Ihr Code bleibt hier)\n",
    "    r2_values <- MuMIn::r.squaredGLMM(model) # MuMIn:: hinzugefügt für Klarheit\n",
    "    return(c(\n",
    "      R2m = sprintf(\"%.3f\", r2_values[1, \"R2m\"]),\n",
    "      R2c = sprintf(\"%.3f\", r2_values[1, \"R2c\"])\n",
    "    ))\n",
    "  }\n",
    "\n",
    "  # Daten extrahieren (Ihr Originalcode)\n",
    "  all_coefs <- lapply(lmer_models, extract_coef_info)\n",
    "  all_r_squared <- lapply(lmer_models, extract_r_squared)\n",
    "  all_covariate_names <- unique(unlist(lapply(all_coefs, names)))\n",
    "\n",
    "  if (is.null(covariate_order)) {\n",
    "    covariate_order <- c(\"(Intercept)\", sort(all_covariate_names[all_covariate_names != \"(Intercept)\"]))\n",
    "  }\n",
    "  covariate_order <- covariate_order[covariate_order %in% all_covariate_names]\n",
    "  final_order <- c(covariate_order, \"R2m\", \"R2c\")\n",
    "\n",
    "  # Matrix erstellen (Ihr Originalcode)\n",
    "  results_matrix <- matrix(\"\",\n",
    "                           nrow = length(final_order),\n",
    "                           ncol = length(lmer_models),\n",
    "                           dimnames = list(final_order, names(lmer_models)))\n",
    "\n",
    "  # Matrix füllen (Ihr Originalcode)\n",
    "  for (model_name in names(lmer_models)) {\n",
    "    model_coefs <- all_coefs[[model_name]]\n",
    "    for (covar in names(model_coefs)) {\n",
    "      if (covar %in% covariate_order) {\n",
    "        results_matrix[covar, model_name] <- model_coefs[covar]\n",
    "      }\n",
    "    }\n",
    "    r2_values <- all_r_squared[[model_name]]\n",
    "    results_matrix[\"R2m\", model_name] <- r2_values[\"R2m\"]\n",
    "    results_matrix[\"R2c\", model_name] <- r2_values[\"R2c\"]\n",
    "  }\n",
    "\n",
    "  # --- NEU: Zeilen- und Spaltennamen ersetzen ---\n",
    "  \n",
    "  # Ersetze die Zeilennamen (Kovariaten), falls covariate_labels übergeben wurde\n",
    "  if (!is.null(covariate_labels)) {\n",
    "    # Finde die Übereinstimmungen in den aktuellen Zeilennamen\n",
    "    row_matches <- match(rownames(results_matrix), names(covariate_labels))\n",
    "    # Ersetze nur die, die gefunden wurden\n",
    "    new_rownames <- rownames(results_matrix)\n",
    "    new_rownames[!is.na(row_matches)] <- covariate_labels[row_matches[!is.na(row_matches)]]\n",
    "    rownames(results_matrix) <- new_rownames\n",
    "  }\n",
    "  \n",
    "  # Ersetze die Spaltennamen (Modelle), falls model_labels übergeben wurde\n",
    "  if (!is.null(model_labels)) {\n",
    "    col_matches <- match(colnames(results_matrix), names(model_labels))\n",
    "    new_colnames <- colnames(results_matrix)\n",
    "    new_colnames[!is.na(col_matches)] <- model_labels[col_matches[!is.na(col_matches)]]\n",
    "    colnames(results_matrix) <- new_colnames\n",
    "  }\n",
    "  \n",
    "  # --- Ende der neuen Sektion ---\n",
    "\n",
    "  # Convert to data frame for kable\n",
    "  results_df <- data.frame(\"Response\" = rownames(results_matrix),\n",
    "                           results_matrix,\n",
    "                           check.names = FALSE, # Verhindert, dass R Spaltennamen ändert\n",
    "                           stringsAsFactors = FALSE)\n",
    "  \n",
    "  results_df\n",
    "}"
   ],
   "id": "6230503f-f4d1-479b-b634-5f49e1db18ef"
  },
  {
   "cell_type": "code",
   "execution_count": null,
   "metadata": {},
   "outputs": [
    {
     "output_type": "display_data",
     "metadata": {},
     "data": {
      "text/markdown": [
       "  Response                   PS             k   log(k\\*PS)      CO2    AAE10\n",
       "  ------------------ ---------- ------------- ------------ -------- --------\n",
       "  (Intercept)            -4.316         0.608       -5.222   -2.467    2.482\n",
       "  Alox                    0.603        -0.129        0.368   -0.071   -0.940\n",
       "  Feox                   -0.053         0.001        0.248   -0.223   -0.146\n",
       "  soil_0_20_clay         -0.007   \\*\\* -0.017       -0.085    0.017    0.000\n",
       "  soil_0_20_Corg       \\* 0.635    \\*\\* 0.137   \\*\\* 1.290    0.203    0.399\n",
       "  soil_0_20_pH_H2O       -0.008        -0.022       -0.068    0.154    0.092\n",
       "  soil_0_20_silt         -0.010         0.004       -0.011    0.008    0.023\n",
       "  R2m                     0.100         0.204        0.070    0.103    0.285\n",
       "  R2c                     0.954         0.963        0.910    0.664    0.881\n",
       "\n",
       "  : Coefficient Table for Soil covariates. Significant codes: 0 '\\*\\*\\*'\n",
       "  0.001 '\\*\\*' 0.01 '\\*' 0.05\n"
      ]
     }
    },
    {
     "output_type": "display_data",
     "metadata": {},
     "data": {
      "text/markdown": [
       "  ----------------------------------------------------------------------------------------------------------------------------------------------------------------\n",
       "  Response                                         Yn-STP-CO2   Yn-STP-AAE10   Yn-STP-GRUD   Yn-Kinetic      Yr-STP-CO2   Yr-STP-AAE10    Yr-STP-GRUD   Yr-Kinetic\n",
       "  --------------------------------------------- ------------- -------------- ------------- ------------ --------------- -------------- -------------- ------------\n",
       "  (Intercept)                                     \\*\\*\\*1.038    \\*\\*\\*0.463   \\*\\*\\*0.970     \\* 0.993   \\*\\*\\*104.177   \\*\\*\\*65.643   \\*\\*\\*86.797  \\*\\* 82.385\n",
       "\n",
       "  k                                                                                               1.913                                                 \\* 294.257\n",
       "\n",
       "  k:log(PS)                                                                                       0.805                                                 \\* 131.381\n",
       "\n",
       "  log(PS)                                                                                        -0.047                                                 \\* -18.957\n",
       "\n",
       "  log(soil_0_20_P_AAE10)                                         \\*\\*\\*0.140         0.020                                 \\*\\*\\*9.963          4.593 \n",
       "\n",
       "  log(soil_0_20_P_CO2)                            \\*\\*\\*0.163                        0.095                  \\*\\*\\*8.623                        17.430 \n",
       "\n",
       "  log(soil_0_20_P_CO2):log(soil_0_20_P_AAE10)                                        0.021                                                     -4.372 \n",
       "\n",
       "  R2m                                                   0.226          0.203         0.224        0.014           0.066          0.092          0.099        0.015\n",
       "\n",
       "  R2c                                                   0.432          0.445         0.439        0.321           0.573          0.576          0.579        0.512\n",
       "  ----------------------------------------------------------------------------------------------------------------------------------------------------------------\n",
       "\n",
       "  : Coefficient Table for Ynorm and Yrel. Significant codes: 0 '\\*\\*\\*'\n",
       "  0.001 '\\*\\*' 0.01 '\\*' 0.05\n"
      ]
     }
    },
    {
     "output_type": "stream",
     "name": "stderr",
     "text": [
      "`geom_smooth()` using formula = 'y ~ x'"
     ]
    },
    {
     "output_type": "display_data",
     "metadata": {},
     "data": {
      "image/png": "[encoded data removed]"
     }
    },
    {
     "output_type": "stream",
     "name": "stdout",
     "text": [
      "[1] \"Spearman correlation between PS and E_exp_10080:\""
     ]
    },
    {
     "output_type": "stream",
     "name": "stdout",
     "text": [
      "\n",
      "    Spearman's rank correlation rho\n",
      "\n",
      "data:  correlation_data$PS and correlation_data$E_exp_10080\n",
      "S = 145564, p-value = 5.745e-06\n",
      "alternative hypothesis: true rho is not equal to 0\n",
      "sample estimates:\n",
      "      rho \n",
      "0.4104453 "
     ]
    },
    {
     "output_type": "stream",
     "name": "stderr",
     "text": [
      "`geom_smooth()` using formula = 'y ~ x'"
     ]
    },
    {
     "output_type": "display_data",
     "metadata": {},
     "data": {
      "image/png": "[encoded data removed]"
     }
    },
    {
     "output_type": "stream",
     "name": "stdout",
     "text": [
      "[1] \"Spearman correlation between k and n_60:\""
     ]
    },
    {
     "output_type": "stream",
     "name": "stdout",
     "text": [
      "\n",
      "    Spearman's rank correlation rho\n",
      "\n",
      "data:  correlation_data$k and correlation_data$n_1440\n",
      "S = 155343, p-value = 4.873e-05\n",
      "alternative hypothesis: true rho is not equal to 0\n",
      "sample estimates:\n",
      "      rho \n",
      "0.3708392 "
     ]
    },
    {
     "output_type": "stream",
     "name": "stdout",
     "text": [
      "[1] Cadenazzo   Ellighausen Oensingen   Reckenholz  Ruemlang   \n",
      "Levels: Cadenazzo Ellighausen Oensingen Reckenholz Ruemlang"
     ]
    }
   ],
   "source": [
    "lmer_models <- list(\n",
    "  PS = fit.soil.PS,\n",
    "  k = fit.soil.k,\n",
    "  'log(k*PS)' = fit.soil.kPS,\n",
    "  CO2 = fit.soil.CO2,\n",
    "  AAE10 = fit.soil.AAE10\n",
    ")\n",
    "\n",
    "\n",
    "\n",
    "coef_table_soil <- create_coef_table(lmer_models)\n",
    "kable(coef_table_soil,\n",
    "row.names = FALSE,\n",
    "align = c(\"l\", rep(\"r\", ncol(coef_table_soil) - 1)),\n",
    "escape = FALSE,\n",
    "caption = \"Coefficient Table for Soil covariates. \n",
    "Significant codes:  0 '\\\\*\\\\*\\\\*' 0.001 '\\\\*\\\\*' 0.01 '\\\\*' 0.05\")"
   ],
   "id": "e2aabb9a-aa83-4a19-8b06-0e40504629d5"
  }
 ],
 "nbformat": 4,
 "nbformat_minor": 5,
 "metadata": {}
}
