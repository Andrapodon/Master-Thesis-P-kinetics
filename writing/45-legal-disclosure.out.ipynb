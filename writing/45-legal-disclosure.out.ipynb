{
 "cells": [
  {
   "cell_type": "markdown",
   "metadata": {},
   "source": [
    "# \n",
    "\n",
    "# Legal Disclosure"
   ],
   "id": "26c7bea1-2980-4d79-a97b-a1786dd63b89"
  }
 ],
 "nbformat": 4,
 "nbformat_minor": 5,
 "metadata": {}
}
