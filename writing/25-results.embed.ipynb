{
 "cells": [
  {
   "cell_type": "markdown",
   "metadata": {},
   "source": [
    "# \n",
    "\n",
    "# Results"
   ],
   "id": "ef3aa086-5cb3-4f9e-8be8-41940d7f8543"
  }
 ],
 "nbformat": 4,
 "nbformat_minor": 5,
 "metadata": {}
}
