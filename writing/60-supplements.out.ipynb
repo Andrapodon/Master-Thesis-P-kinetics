{
 "cells": [
  {
   "cell_type": "markdown",
   "metadata": {},
   "source": [
    "# \n",
    "\n",
    "# Supplements"
   ],
   "id": "71b5edb6-6750-44c9-97c2-88b7af131bed"
  }
 ],
 "nbformat": 4,
 "nbformat_minor": 5,
 "metadata": {}
}
