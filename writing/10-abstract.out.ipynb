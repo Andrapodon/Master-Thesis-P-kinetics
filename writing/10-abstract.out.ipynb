{
 "cells": [
  {
   "cell_type": "markdown",
   "metadata": {},
   "source": [
    "# \n",
    "\n",
    "# Abstract\n",
    "\n",
    "\\[@knuth84\\]"
   ],
   "id": "464a5d96-ca31-415b-a69c-51166de833e9"
  }
 ],
 "nbformat": 4,
 "nbformat_minor": 5,
 "metadata": {}
}
