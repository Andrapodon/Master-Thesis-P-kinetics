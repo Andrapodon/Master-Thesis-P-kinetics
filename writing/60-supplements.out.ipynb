{
 "cells": [
  {
   "cell_type": "markdown",
   "metadata": {},
   "source": [
    "# \n",
    "\n",
    "# Supplements"
   ],
   "id": "6234e8e4-3840-4dad-9f84-86119bd00403"
  }
 ],
 "nbformat": 4,
 "nbformat_minor": 5,
 "metadata": {}
}
