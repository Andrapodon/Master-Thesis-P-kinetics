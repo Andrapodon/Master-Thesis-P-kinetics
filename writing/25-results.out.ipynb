{
 "cells": [
  {
   "cell_type": "markdown",
   "metadata": {},
   "source": [
    "# \n",
    "\n",
    "# Results"
   ],
   "id": "46a76f89-3100-4776-b384-d2f940b2f8c3"
  }
 ],
 "nbformat": 4,
 "nbformat_minor": 5,
 "metadata": {}
}
