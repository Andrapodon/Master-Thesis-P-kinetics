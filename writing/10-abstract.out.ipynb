{
 "cells": [
  {
   "cell_type": "markdown",
   "metadata": {},
   "source": [
    "# \n",
    "\n",
    "# Abstract"
   ],
   "id": "c926fbb3-8e67-4999-935d-624161b715b1"
  }
 ],
 "nbformat": 4,
 "nbformat_minor": 5,
 "metadata": {}
}
