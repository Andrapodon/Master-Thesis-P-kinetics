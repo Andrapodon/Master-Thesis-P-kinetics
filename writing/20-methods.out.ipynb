{
 "cells": [
  {
   "cell_type": "markdown",
   "metadata": {},
   "source": [
    "# \n",
    "\n",
    "# Methods"
   ],
   "id": "60678664-9bd7-4f45-92e8-3044399cf2ae"
  }
 ],
 "nbformat": 4,
 "nbformat_minor": 5,
 "metadata": {}
}
