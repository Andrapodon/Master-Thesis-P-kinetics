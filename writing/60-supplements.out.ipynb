{
 "cells": [
  {
   "cell_type": "markdown",
   "metadata": {},
   "source": [
    "# \n",
    "\n",
    "# Supplements"
   ],
   "id": "cbea09c2-fd9c-4a6b-84ad-c455c0c8be26"
  }
 ],
 "nbformat": 4,
 "nbformat_minor": 5,
 "metadata": {}
}
