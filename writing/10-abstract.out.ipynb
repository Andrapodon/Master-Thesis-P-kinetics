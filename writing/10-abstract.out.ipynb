{
 "cells": [
  {
   "cell_type": "markdown",
   "metadata": {},
   "source": [
    "# \n",
    "\n",
    "# Abstract\n",
    "\n",
    "\\[@knuth84\\]"
   ],
   "id": "fe593db3-921e-471c-bab9-de3fa078db7a"
  }
 ],
 "nbformat": 4,
 "nbformat_minor": 5,
 "metadata": {}
}
