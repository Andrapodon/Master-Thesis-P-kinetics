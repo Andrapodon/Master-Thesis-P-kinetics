{
 "cells": [
  {
   "cell_type": "markdown",
   "metadata": {},
   "source": [
    "# \n",
    "\n",
    "# Supplements"
   ],
   "id": "4e7952f6-e4de-47d5-a3ed-e0371928ad92"
  }
 ],
 "nbformat": 4,
 "nbformat_minor": 5,
 "metadata": {}
}
