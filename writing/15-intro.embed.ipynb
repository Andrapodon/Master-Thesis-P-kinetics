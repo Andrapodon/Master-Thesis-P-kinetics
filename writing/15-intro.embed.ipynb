{
 "cells": [
  {
   "cell_type": "markdown",
   "metadata": {},
   "source": [
    "# \n",
    "\n",
    "# Introduction\n",
    "\n",
    "# Complexity of Phosphorous\n",
    "\n",
    "Phosphorous displays a wide range of behaviours in soils, in places where organic, mineral and aqueous phases interface. In phases that contain oxygen Phosphorous is almost exclusively present as several derivates of Orthophosphate $PO_4^{3-}$ It can be found as organic molecules as anhydric- and ester-groups, being needed by all known species as a constituent of DNA and energy transfer-processes. It can be present as anorganic Phosphate either as mono-orthophosphate $PO_4^{3-}$ or poly-orthophosphate $HO-(PO_2)_n-OH$, where it can strongly interact with water, forming, depending on pH $HPO_4^{2-}$ or $H_2PO_4^{-}$. The dissolved species of phosphate are subject to adsorption to clay- and oxide-surfaces of the solid soil-phase, they also form fallout-products such as Apatite, Vivianite etc. With the present metal-cations in the solution. While the solubility constant of most phosphate-salts are comparably low (Wert eingeben), meaning that the fallout and formation of minerals happens at low chemical activities of phosphate, phosphate often is leached from soil-surface-layers, heavily reducing the efficacy of P-fertilization and presenting a disturbance to P-limited ecosystems. Those phenomena, many of them being physicochemically controlled, are influenced by parameters such as pH, ionic-strength, clay-content, specific-surface of the solid phase, amorphous $Fe(OH)_3$-content amorphous $Al(OH)_3$-content, in short the phenomena depend heavily on the composition, distribution and geometry of the soil. Those properties are considered to be stable respectively long-term properties of a soil, when looked at it with the interest of modelling the transport processes of Phosphate in soils. Factors such as water-content, temperature, vegetation and precipitation are factors that temporally can vary fast and to a certain degree unpredictably. Organic forms of phosphates, prominently DNA or oligonucleotides and phytate are also subject to physicochemical reactions, mainly decomposition, but are foremost controlled in their presence by enzymatic processes, where i.e. plants form phytates in seeds to provide the embryo a compact and specific reserve of phosphate, but many bacteria possess via Phytases the ability to hydrolyse phytate and use it for their own means. To assess and cover those phenomena, models, dynamically describing the motion of Phosphorous in soils, differentiate several pools of Phosphorous, most prominently the organic-P, dissolved-P, adsorbed-P, mineral-P, where the difference in temporal behaviour, such as the mean-reside-time can lead to a differentiation between labile-P, semi-labile-P and so on.\n",
    "\n",
    "# Plants as Phosphate sinks\n",
    "\n",
    "When a soil is used agronomically, P-sinks such as leaching and plant P-uptake\n",
    "\n",
    "## Struktur\n",
    "\n",
    "## Warum ist die Arbeit wichtig\n",
    "\n",
    "P ist endlich, Umweltproblme \\## P ist sehr komplex\n",
    "\n",
    "Siehe oben \\## Wie wird bisher P-Ernährung angegangen\n",
    "\n",
    "GRUD\n",
    "\n",
    "$\\frac{A}{B}$\n",
    "\n",
    "## Warum Bodentest\n",
    "\n",
    "## Warum kinetischer Bodentest\n",
    "\n",
    "## Ramona Test\n",
    "\n",
    "djfqrigjriodjkroidgjroigjreiogjeriogjrigjrijqrijriohriherioügrgjriohroighruih"
   ],
   "id": "e4a198da-689e-42dc-803e-c6e3a2ac2ed0"
  }
 ],
 "nbformat": 4,
 "nbformat_minor": 5,
 "metadata": {}
}
