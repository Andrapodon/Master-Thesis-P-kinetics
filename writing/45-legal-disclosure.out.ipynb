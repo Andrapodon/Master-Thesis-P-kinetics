{
 "cells": [
  {
   "cell_type": "markdown",
   "metadata": {},
   "source": [
    "# \n",
    "\n",
    "# Legal Disclosure"
   ],
   "id": "995019e6-a610-47fc-a19a-feee0192f86a"
  }
 ],
 "nbformat": 4,
 "nbformat_minor": 5,
 "metadata": {}
}
