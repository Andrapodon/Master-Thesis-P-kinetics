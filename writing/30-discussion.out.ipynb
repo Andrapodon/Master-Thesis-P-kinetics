{
 "cells": [
  {
   "cell_type": "markdown",
   "metadata": {},
   "source": [
    "# \n",
    "\n",
    "# Discussion"
   ],
   "id": "57d89dbf-fb26-4e92-91ad-225e1b288be4"
  }
 ],
 "nbformat": 4,
 "nbformat_minor": 5,
 "metadata": {}
}
